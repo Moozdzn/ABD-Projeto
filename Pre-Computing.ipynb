{
 "cells": [
  {
   "cell_type": "markdown",
   "id": "signal-knock",
   "metadata": {},
   "source": [
    "# Pre-computing"
   ]
  },
  {
   "cell_type": "markdown",
   "id": "numerous-greeting",
   "metadata": {},
   "source": [
    "## Necessary Imports"
   ]
  },
  {
   "cell_type": "code",
   "execution_count": 1,
   "id": "supported-contamination",
   "metadata": {},
   "outputs": [],
   "source": [
    "import os\n",
    "import sys\n",
    "import warnings\n",
    "warnings.filterwarnings(\"ignore\")"
   ]
  },
  {
   "cell_type": "code",
   "execution_count": 2,
   "id": "demanding-albert",
   "metadata": {},
   "outputs": [],
   "source": [
    "from pyspark.sql import SparkSession, Row\n",
    "from pyspark.sql.functions import *\n",
    "from pyspark.sql.types import *\n",
    "\n",
    "from pyspark.ml.recommendation import ALS, ALSModel\n",
    "from pyspark.ml.evaluation import RegressionEvaluator\n",
    "from pyspark.ml import Pipeline"
   ]
  },
  {
   "cell_type": "code",
   "execution_count": 3,
   "id": "desperate-prairie",
   "metadata": {},
   "outputs": [],
   "source": [
    "MAX_MEMORY = \"8g\"\n",
    "\n",
    "warehouse_location = 'spark-warehouse'\n",
    "\n",
    "spark = SparkSession \\\n",
    "    .builder \\\n",
    "    .appName(\"Foo\") \\\n",
    "    .config(\"spark.executor.memory\", MAX_MEMORY) \\\n",
    "    .config(\"spark.sql.warehouse.dir\", warehouse_location) \\\n",
    "    .config(\"spark.driver.memory\", MAX_MEMORY) \\\n",
    "    .enableHiveSupport() \\\n",
    "    .getOrCreate()"
   ]
  },
  {
   "cell_type": "code",
   "execution_count": 4,
   "id": "bored-sport",
   "metadata": {
    "scrolled": true
   },
   "outputs": [
    {
     "name": "stdout",
     "output_type": "stream",
     "text": [
      "total 679332\n",
      "drwxrwxr-x 7 big big      4096 mai 18 19:16  .\n",
      "drwxrwxr-x 3 big big      4096 mai 18 15:59  ..\n",
      "drwxr-xr-x 5 big big      4096 mai 18 17:31  ALSmodel\n",
      "-rwxrw-rw- 1 big big 689932433 mai 18 15:22  amazon_item_ratings.csv\n",
      "-rw-rw-r-- 1 big big     35683 mai 18 18:55 'Data Preparation.ipynb'\n",
      "-rw-rw-r-- 1 big big   5595908 mai 18 19:16  derby.log\n",
      "drwxrwxr-x 2 big big      4096 mai 18 17:51  .ipynb_checkpoints\n",
      "drwxr-xr-x 2 big big      4096 mai 18 17:31  items.parquet\n",
      "drwxrwxr-x 5 big big      4096 mai 18 19:16  metastore_db\n",
      "-rw-rw-r-- 1 big big     29695 mai 18 19:16  Pre-Computing.ipynb\n",
      "drwxr-xr-x 5 big big      4096 mai 18 17:32  spark-warehouse\n",
      "total 124\n",
      "drwxr-xr-x 5 big big  4096 mai 18 17:32 .\n",
      "drwxrwxr-x 7 big big  4096 mai 18 19:16 ..\n",
      "drwxr-xr-x 2 big big 53248 mai 18 17:32 itemsrecommendationtable\n",
      "drwxr-xr-x 2 big big  4096 mai 18 17:31 itemstable\n",
      "drwxr-xr-x 2 big big 53248 mai 18 17:32 userrecommendationtable\n"
     ]
    }
   ],
   "source": [
    "! ls -la\n",
    "! ls -la ./spark-warehouse"
   ]
  },
  {
   "cell_type": "code",
   "execution_count": 5,
   "id": "exciting-birmingham",
   "metadata": {
    "scrolled": true
   },
   "outputs": [
    {
     "name": "stdout",
     "output_type": "stream",
     "text": [
      "[Database(name='default', description='Default Hive database', locationUri='file:/home/big/Desktop/Aulas/Projeto/spark-warehouse')]\n"
     ]
    }
   ],
   "source": [
    "print(spark.catalog.listDatabases())"
   ]
  },
  {
   "cell_type": "markdown",
   "id": "cardiac-circumstances",
   "metadata": {},
   "source": [
    "## Load Table to Dataframe"
   ]
  },
  {
   "cell_type": "code",
   "execution_count": 9,
   "id": "velvet-treaty",
   "metadata": {
    "scrolled": true
   },
   "outputs": [],
   "source": [
    "df_data = spark.sql(\"SELECT * FROM datatable\")"
   ]
  },
  {
   "cell_type": "markdown",
   "id": "valid-prescription",
   "metadata": {},
   "source": [
    "Another way to load"
   ]
  },
  {
   "cell_type": "code",
   "execution_count": null,
   "id": "organized-richards",
   "metadata": {},
   "outputs": [],
   "source": [
    "#df_data = spark.read.load(\"spark-warehouse/datatable\")\n",
    "#df_data.show()"
   ]
  },
  {
   "cell_type": "code",
   "execution_count": 10,
   "id": "optional-threshold",
   "metadata": {},
   "outputs": [
    {
     "name": "stdout",
     "output_type": "stream",
     "text": [
      "+---+----------+----------+----------+\n",
      "|_c2|_c3       |Item_Index|User_Index|\n",
      "+---+----------+----------+----------+\n",
      "|5.0|1362268800|3562.0    |9001.0    |\n",
      "|4.0|1389398400|12294.0   |1960.0    |\n",
      "|4.0|1362960000|1132.0    |185.0     |\n",
      "|5.0|1405468800|14353.0   |9987.0    |\n",
      "|5.0|1398470400|6896.0    |6297.0    |\n",
      "|5.0|1271116800|2943.0    |3256.0    |\n",
      "|5.0|1363392000|813.0     |14429.0   |\n",
      "|5.0|1380067200|2351.0    |11613.0   |\n",
      "|3.0|1385683200|320.0     |3944.0    |\n",
      "|3.0|1246406400|6591.0    |1345.0    |\n",
      "+---+----------+----------+----------+\n",
      "only showing top 10 rows\n",
      "\n"
     ]
    }
   ],
   "source": [
    "df_data.show(10,truncate=False)"
   ]
  },
  {
   "cell_type": "code",
   "execution_count": 12,
   "id": "sapphire-interference",
   "metadata": {},
   "outputs": [
    {
     "data": {
      "text/plain": [
       "[13289, 3171, 16460]"
      ]
     },
     "execution_count": 12,
     "metadata": {},
     "output_type": "execute_result"
    }
   ],
   "source": [
    "dftrain, dftest = df_data.randomSplit([0.8,0.2], 42)\n",
    "\n",
    "dftrain.cache()\n",
    "\n",
    "[dftrain.count(),dftest.count(),df_data.count()]"
   ]
  },
  {
   "cell_type": "code",
   "execution_count": null,
   "id": "southern-builder",
   "metadata": {},
   "outputs": [],
   "source": [
    "dftrain.printSchema()"
   ]
  },
  {
   "cell_type": "code",
   "execution_count": 32,
   "id": "secondary-proportion",
   "metadata": {},
   "outputs": [],
   "source": [
    "def getALSModel():\n",
    "    als = ALS(maxIter=5,\n",
    "          regParam=0.01,\n",
    "          userCol=\"ReviewerID\",\n",
    "          itemCol=\"ItemID,\n",
    "          ratingCol=\"Rating\",\n",
    "          coldStartStrategy=\"drop\")\n",
    "\n",
    "    return als.fit(dftrain)"
   ]
  },
  {
   "cell_type": "code",
   "execution_count": 33,
   "id": "adolescent-spell",
   "metadata": {},
   "outputs": [
    {
     "name": "stdout",
     "output_type": "stream",
     "text": [
      "Model Found and Loaded!\n"
     ]
    }
   ],
   "source": [
    "try:\n",
    "  # Load ALS Model if it exists\n",
    "    modelpath = \"ALSmodel\"\n",
    "    model = ALSModel.load(modelpath)\n",
    "except:\n",
    "    print(\"No model exists\\nCreating Model...\")\n",
    "    model = getALSModel()\n",
    "    print(\"Model created!\")\n",
    "    print(\"Saving Model...!\")\n",
    "    modelpath = \"ALSmodel\"\n",
    "    model.write().overwrite().save(modelpath)\n",
    "    print(\"Model Saved!\")\n",
    "else:\n",
    "    print(\"Model Found and Loaded!\")"
   ]
  },
  {
   "cell_type": "code",
   "execution_count": 27,
   "id": "roman-envelope",
   "metadata": {},
   "outputs": [
    {
     "name": "stdout",
     "output_type": "stream",
     "text": [
      "root\n",
      " |-- _c2: double (nullable = true)\n",
      " |-- _c3: integer (nullable = true)\n",
      " |-- Item_Index: double (nullable = true)\n",
      " |-- User_Index: double (nullable = true)\n",
      "\n"
     ]
    }
   ],
   "source": [
    "dftrain.printSchema()"
   ]
  },
  {
   "cell_type": "code",
   "execution_count": 28,
   "id": "stainless-sending",
   "metadata": {},
   "outputs": [
    {
     "name": "stdout",
     "output_type": "stream",
     "text": [
      "Root-mean-square-error = 0.2112763291584686\n"
     ]
    }
   ],
   "source": [
    "predictions = model.transform(dftest)\n",
    "evaluator = RegressionEvaluator(metricName=\"rmse\",\n",
    "                               labelCol=\"Rating\",\n",
    "                               predictionCol=\"prediction\")\n",
    "rmse = evaluator.evaluate(predictions)\n",
    "\n",
    "print(\"Root-mean-square-error = \" + str(rmse))"
   ]
  },
  {
   "cell_type": "code",
   "execution_count": 29,
   "id": "worthy-bikini",
   "metadata": {},
   "outputs": [
    {
     "name": "stdout",
     "output_type": "stream",
     "text": [
      "total 20\r\n",
      "drwxr-xr-x 5 big big 4096 mai 18 19:56 .\r\n",
      "drwxrwxr-x 7 big big 4096 mai 18 19:59 ..\r\n",
      "drwxr-xr-x 2 big big 4096 mai 18 17:31 itemFactors\r\n",
      "drwxr-xr-x 2 big big 4096 mai 18 17:31 metadata\r\n",
      "drwxr-xr-x 2 big big 4096 mai 18 17:31 userFactors\r\n"
     ]
    }
   ],
   "source": [
    "! ls -la ./ALSmodel"
   ]
  },
  {
   "cell_type": "code",
   "execution_count": 34,
   "id": "exterior-dynamics",
   "metadata": {},
   "outputs": [],
   "source": [
    "#users = df_itemtable.select(als.getUserCol()).distinct()\n",
    "#items = df_itemtable.select(als.getItemCol()).distinct()"
   ]
  },
  {
   "cell_type": "code",
   "execution_count": 36,
   "id": "overhead-intermediate",
   "metadata": {},
   "outputs": [],
   "source": [
    "#users.show()\n",
    "#items.show()\n",
    "#[users.count(),items.count()]"
   ]
  },
  {
   "cell_type": "code",
   "execution_count": 35,
   "id": "latin-console",
   "metadata": {},
   "outputs": [],
   "source": [
    "items_to_recommend = 5\n",
    "users_recommendations = model.recommendForAllUsers(items_to_recommend)\n",
    "\n",
    "users_to_recommend = 5\n",
    "items_recommendations = model.recommendForAllItems(users_to_recommend)"
   ]
  },
  {
   "cell_type": "code",
   "execution_count": 37,
   "id": "accredited-makeup",
   "metadata": {
    "scrolled": true
   },
   "outputs": [
    {
     "name": "stdout",
     "output_type": "stream",
     "text": [
      "+----------+--------------------+\n",
      "|User_Index|     recommendations|\n",
      "+----------+--------------------+\n",
      "|      3175|[[1, 5.932409], [...|\n",
      "|      3997|[[2, 4.9202595], ...|\n",
      "|      4935|[[268, 5.380145],...|\n",
      "|      9427|[[256, 5.6797237]...|\n",
      "|      9465|[[415, 5.9525847]...|\n",
      "|     10817|[[10209, 4.411932...|\n",
      "|     11317|[[0, 6.2972293], ...|\n",
      "|     12027|[[56, 5.485071], ...|\n",
      "|     13285|[[32, 9.136136], ...|\n",
      "|     15447|[[27, 5.2653947],...|\n",
      "|     15727|[[92, 3.9992356],...|\n",
      "|     15957|[[265, 5.8108306]...|\n",
      "|       148|[[448, 5.706791],...|\n",
      "|      1088|[[60, 5.864487], ...|\n",
      "|      1238|[[363, 3.9992745]...|\n",
      "|      3794|[[20, 4.3474], [1...|\n",
      "|      3918|[[207, 5.9743066]...|\n",
      "|      5518|[[424, 6.5925517]...|\n",
      "|      6654|[[394, 5.543542],...|\n",
      "|      7554|[[418, 5.799959],...|\n",
      "+----------+--------------------+\n",
      "only showing top 20 rows\n",
      "\n",
      "+----------+--------------------+\n",
      "|Item_Index|     recommendations|\n",
      "+----------+--------------------+\n",
      "|       148|[[14406, 3.997264...|\n",
      "|       471|[[6374, 5.2338414...|\n",
      "|       833|[[11344, 4.997807...|\n",
      "|      1238|[[425, 3.9972644]...|\n",
      "|      1342|[[8346, 2.9963684...|\n",
      "|      1580|[[9091, 4.997807]...|\n",
      "|      1591|[[13930, 3.997264...|\n",
      "|      1645|[[14687, 2.996368...|\n",
      "|      1829|[[14027, 4.997807...|\n",
      "|      1959|[[90, 3.9972644],...|\n",
      "|      2122|[[932, 4.997807],...|\n",
      "|      2142|[[1881, 4.997807]...|\n",
      "|      2366|[[11365, 4.997807...|\n",
      "|      2659|[[9531, 0.9899167...|\n",
      "|      2866|[[11455, 2.996368...|\n",
      "|      3175|[[6615, 4.997807]...|\n",
      "|      3749|[[13938, 4.997807...|\n",
      "|      3794|[[7763, 4.997807]...|\n",
      "|      3918|[[568, 4.997807],...|\n",
      "|      3997|[[4949, 4.9978075...|\n",
      "+----------+--------------------+\n",
      "only showing top 20 rows\n",
      "\n"
     ]
    }
   ],
   "source": [
    "users_recommendations.show()\n",
    "items_recommendations.show()"
   ]
  },
  {
   "cell_type": "code",
   "execution_count": 38,
   "id": "absent-broadcasting",
   "metadata": {},
   "outputs": [],
   "source": [
    "users_recommendations.write.mode(\"overwrite\").saveAsTable(\"UserRecommendationTable\")\n",
    "items_recommendations.write.mode(\"overwrite\").saveAsTable(\"ItemsRecommendationTable\")"
   ]
  }
 ],
 "metadata": {
  "kernelspec": {
   "display_name": "PySpark",
   "language": "python",
   "name": "pyspark"
  },
  "language_info": {
   "codemirror_mode": {
    "name": "ipython",
    "version": 3
   },
   "file_extension": ".py",
   "mimetype": "text/x-python",
   "name": "python",
   "nbconvert_exporter": "python",
   "pygments_lexer": "ipython3",
   "version": "3.8.5"
  }
 },
 "nbformat": 4,
 "nbformat_minor": 5
}
