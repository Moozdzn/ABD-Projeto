{
 "cells": [
  {
   "cell_type": "markdown",
   "id": "signal-knock",
   "metadata": {},
   "source": [
    "# Pre-computing"
   ]
  },
  {
   "cell_type": "markdown",
   "id": "numerous-greeting",
   "metadata": {},
   "source": [
    "## Necessary Imports"
   ]
  },
  {
   "cell_type": "code",
   "execution_count": 1,
   "id": "supported-contamination",
   "metadata": {},
   "outputs": [],
   "source": [
    "import os\n",
    "import sys\n",
    "import warnings\n",
    "warnings.filterwarnings(\"ignore\")"
   ]
  },
  {
   "cell_type": "code",
   "execution_count": 2,
   "id": "demanding-albert",
   "metadata": {},
   "outputs": [],
   "source": [
    "from pyspark.sql.functions import *\n",
    "from pyspark.sql.types import *\n",
    "\n",
    "from pyspark.ml.recommendation import ALS, ALSModel\n",
    "from pyspark.ml.evaluation import RegressionEvaluator"
   ]
  },
  {
   "cell_type": "code",
   "execution_count": 3,
   "id": "bored-sport",
   "metadata": {
    "scrolled": true
   },
   "outputs": [
    {
     "name": "stdout",
     "output_type": "stream",
     "text": [
      "total 3289952\n",
      "drwxrwxr-x 8 big big       4096 mai 24 01:44  .\n",
      "drwxrwxr-x 5 big big       4096 mai 24 01:43  ..\n",
      "drwxr-xr-x 5 big big       4096 mai 18 19:56  ALSmodel\n",
      "-rwxrw-rw- 1 big big 3366981927 mai 16 21:13  amazon_item_ratings.csv\n",
      "drwxr-xr-x 2 big big       4096 mai 23 19:51  data.parquet\n",
      "-rwxrw-rw- 1 big big      43496 mai 23 19:55 'Data Preparation.ipynb'\n",
      "-rw-rw-r-- 1 big big    1799324 mai 24 01:44  derby.log\n",
      "drwxrwxr-x 2 big big       4096 mai 23 19:45  .ipynb_checkpoints\n",
      "drwxr-xr-x 2 big big      12288 mai 23 00:39  items.parquet\n",
      "drwxrwxr-x 5 big big       4096 mai 24 01:44  metastore_db\n",
      "-rw-rw-r-- 1 big big      17007 mai 24 01:44  Pre-Computing.ipynb\n",
      "-rw-rw-r-- 1 big big       9347 mai 23 04:52  Results.ipynb\n",
      "drwxr-xr-x 6 big big       4096 mai 23 00:39  spark-warehouse\n",
      "total 120\n",
      "drwxr-xr-x 6 big big  4096 mai 23 00:39 .\n",
      "drwxrwxr-x 8 big big  4096 mai 24 01:44 ..\n",
      "drwxr-xr-x 2 big big 12288 mai 23 00:39 datatable\n",
      "drwxr-xr-x 2 big big 45056 mai 18 20:03 itemsrecommendationtable\n",
      "drwxr-xr-x 2 big big  4096 mai 18 17:31 itemstable\n",
      "drwxr-xr-x 2 big big 45056 mai 18 20:03 userrecommendationtable\n"
     ]
    }
   ],
   "source": [
    "! ls -la\n",
    "! ls -la ./spark-warehouse"
   ]
  },
  {
   "cell_type": "code",
   "execution_count": 4,
   "id": "exciting-birmingham",
   "metadata": {
    "scrolled": true
   },
   "outputs": [
    {
     "name": "stdout",
     "output_type": "stream",
     "text": [
      "[Database(name='default', description='Default Hive database', locationUri='file:/home/big/Desktop/Aulas/Projeto/spark-warehouse')]\n"
     ]
    }
   ],
   "source": [
    "print(spark.catalog.listDatabases())"
   ]
  },
  {
   "cell_type": "markdown",
   "id": "cardiac-circumstances",
   "metadata": {},
   "source": [
    "## Load Table to Dataframe"
   ]
  },
  {
   "cell_type": "code",
   "execution_count": 5,
   "id": "velvet-treaty",
   "metadata": {
    "scrolled": true
   },
   "outputs": [],
   "source": [
    "df_data = spark.sql(\"SELECT * FROM datatable\")"
   ]
  },
  {
   "cell_type": "markdown",
   "id": "valid-prescription",
   "metadata": {},
   "source": [
    "Another way to load"
   ]
  },
  {
   "cell_type": "code",
   "execution_count": 6,
   "id": "organized-richards",
   "metadata": {},
   "outputs": [],
   "source": [
    "#df_data = spark.read.load(\"spark-warehouse/datatable\")\n",
    "#df_data.show()"
   ]
  },
  {
   "cell_type": "markdown",
   "id": "martial-depth",
   "metadata": {},
   "source": [
    "## Split dataset"
   ]
  },
  {
   "cell_type": "code",
   "execution_count": 8,
   "id": "sapphire-interference",
   "metadata": {},
   "outputs": [
    {
     "data": {
      "text/plain": [
       "[66716, 16410, 83126]"
      ]
     },
     "execution_count": 8,
     "metadata": {},
     "output_type": "execute_result"
    }
   ],
   "source": [
    "dftrain, dftest = df_data.randomSplit([0.8,0.2], 42)\n",
    "\n",
    "dftrain.cache()\n",
    "\n",
    "[dftrain.count(),dftest.count(),df_data.count()]"
   ]
  },
  {
   "cell_type": "code",
   "execution_count": 9,
   "id": "southern-builder",
   "metadata": {
    "scrolled": true
   },
   "outputs": [
    {
     "name": "stdout",
     "output_type": "stream",
     "text": [
      "root\n",
      " |-- Reviewer: string (nullable = true)\n",
      " |-- Item: string (nullable = true)\n",
      " |-- Rating: double (nullable = true)\n",
      " |-- ReviewerID: double (nullable = true)\n",
      " |-- ItemID: double (nullable = true)\n",
      "\n"
     ]
    }
   ],
   "source": [
    "dftrain.printSchema()"
   ]
  },
  {
   "cell_type": "markdown",
   "id": "cardiac-delaware",
   "metadata": {},
   "source": [
    "## Create or load an existing Model"
   ]
  },
  {
   "cell_type": "code",
   "execution_count": 25,
   "id": "secondary-proportion",
   "metadata": {},
   "outputs": [],
   "source": [
    "def getALSModel():\n",
    "    als = ALS(maxIter=5,\n",
    "          regParam=0.01,\n",
    "          userCol=\"ReviewerID\",\n",
    "          itemCol=\"ItemID\",\n",
    "          ratingCol=\"Rating\",\n",
    "          coldStartStrategy=\"drop\")\n",
    "\n",
    "    return als.fit(dftrain),als"
   ]
  },
  {
   "cell_type": "code",
   "execution_count": 26,
   "id": "adolescent-spell",
   "metadata": {},
   "outputs": [
    {
     "name": "stdout",
     "output_type": "stream",
     "text": [
      "No model exists\n",
      "Creating Model...\n",
      "Model created!\n",
      "Saving Model...!\n",
      "Model Saved!\n"
     ]
    }
   ],
   "source": [
    "try:\n",
    "  # Load ALS Model if it exists\n",
    "    modelpath = \"ALSmodel\"\n",
    "    model = ALSModel.load(modelpath)\n",
    "except:\n",
    "    print(\"No model exists\\nCreating Model...\")\n",
    "    model,als = getALSModel()\n",
    "    print(\"Model created!\")\n",
    "    print(\"Saving Model...!\")\n",
    "    modelpath = \"ALSmodel\"\n",
    "    model.write().overwrite().save(modelpath)\n",
    "    print(\"Model Saved!\")\n",
    "else:\n",
    "    print(\"Model Found and Loaded!\")"
   ]
  },
  {
   "cell_type": "code",
   "execution_count": 19,
   "id": "roman-envelope",
   "metadata": {},
   "outputs": [
    {
     "name": "stdout",
     "output_type": "stream",
     "text": [
      "root\n",
      " |-- Reviewer: string (nullable = true)\n",
      " |-- Item: string (nullable = true)\n",
      " |-- Rating: double (nullable = true)\n",
      " |-- ReviewerID: double (nullable = true)\n",
      " |-- ItemID: double (nullable = true)\n",
      "\n"
     ]
    }
   ],
   "source": [
    "dftrain.printSchema()"
   ]
  },
  {
   "cell_type": "markdown",
   "id": "confidential-harvest",
   "metadata": {},
   "source": [
    "## Evaluate Predictions"
   ]
  },
  {
   "cell_type": "markdown",
   "id": "piano-profile",
   "metadata": {},
   "source": [
    "Get predictions and evaluate them using RegressionEvaluator with a RMSE metric. The closer to 0 the better"
   ]
  },
  {
   "cell_type": "code",
   "execution_count": 27,
   "id": "stainless-sending",
   "metadata": {},
   "outputs": [
    {
     "name": "stdout",
     "output_type": "stream",
     "text": [
      "Root-mean-square-error = 4.756455341859426\n"
     ]
    }
   ],
   "source": [
    "predictions = model.transform(dftest)\n",
    "evaluator = RegressionEvaluator(metricName=\"rmse\",\n",
    "                               labelCol=\"Rating\",\n",
    "                               predictionCol=\"prediction\")\n",
    "rmse = evaluator.evaluate(predictions)\n",
    "\n",
    "print(\"Root-mean-square-error = \" + str(rmse))"
   ]
  },
  {
   "cell_type": "code",
   "execution_count": 28,
   "id": "worthy-bikini",
   "metadata": {
    "scrolled": false
   },
   "outputs": [
    {
     "name": "stdout",
     "output_type": "stream",
     "text": [
      "total 20\r\n",
      "drwxr-xr-x 5 big big 4096 mai 24 01:54 .\r\n",
      "drwxrwxr-x 8 big big 4096 mai 24 01:54 ..\r\n",
      "drwxr-xr-x 2 big big 4096 mai 24 01:54 itemFactors\r\n",
      "drwxr-xr-x 2 big big 4096 mai 24 01:54 metadata\r\n",
      "drwxr-xr-x 2 big big 4096 mai 24 01:54 userFactors\r\n"
     ]
    }
   ],
   "source": [
    "! ls -la ./ALSmodel"
   ]
  },
  {
   "cell_type": "code",
   "execution_count": 29,
   "id": "exterior-dynamics",
   "metadata": {},
   "outputs": [],
   "source": [
    "users = df_data.select(als.getUserCol()).distinct()\n",
    "items = df_data.select(als.getItemCol()).distinct()"
   ]
  },
  {
   "cell_type": "code",
   "execution_count": 30,
   "id": "overhead-intermediate",
   "metadata": {},
   "outputs": [
    {
     "name": "stdout",
     "output_type": "stream",
     "text": [
      "+----------+\n",
      "|ReviewerID|\n",
      "+----------+\n",
      "|   13918.0|\n",
      "|   13607.0|\n",
      "|   50815.0|\n",
      "|   10681.0|\n",
      "|   55682.0|\n",
      "|   76173.0|\n",
      "|   30931.0|\n",
      "|   11757.0|\n",
      "|   39221.0|\n",
      "|   59269.0|\n",
      "|   45583.0|\n",
      "|   22274.0|\n",
      "|   30867.0|\n",
      "|   67987.0|\n",
      "|   55288.0|\n",
      "|   67557.0|\n",
      "|   36870.0|\n",
      "|   16561.0|\n",
      "|   31666.0|\n",
      "|   36797.0|\n",
      "+----------+\n",
      "only showing top 20 rows\n",
      "\n",
      "+-------+\n",
      "| ItemID|\n",
      "+-------+\n",
      "|67866.0|\n",
      "|67934.0|\n",
      "|67987.0|\n",
      "|68112.0|\n",
      "|68215.0|\n",
      "|68245.0|\n",
      "|68353.0|\n",
      "|68581.0|\n",
      "|68656.0|\n",
      "|68733.0|\n",
      "|68790.0|\n",
      "|69030.0|\n",
      "|69071.0|\n",
      "|69101.0|\n",
      "|69133.0|\n",
      "|69457.0|\n",
      "|69860.0|\n",
      "|69870.0|\n",
      "|69959.0|\n",
      "|69989.0|\n",
      "+-------+\n",
      "only showing top 20 rows\n",
      "\n"
     ]
    },
    {
     "data": {
      "text/plain": [
       "[81170, 73716]"
      ]
     },
     "execution_count": 30,
     "metadata": {},
     "output_type": "execute_result"
    }
   ],
   "source": [
    "users.show()\n",
    "items.show()\n",
    "[users.count(),items.count()]"
   ]
  },
  {
   "cell_type": "markdown",
   "id": "pediatric-float",
   "metadata": {},
   "source": [
    "## Compute top 5 recommendations for all Users and all Items"
   ]
  },
  {
   "cell_type": "markdown",
   "id": "authentic-alliance",
   "metadata": {},
   "source": [
    "Distinct users and items selected above could be used to calculate recommendations for a subset since this is a long process"
   ]
  },
  {
   "cell_type": "code",
   "execution_count": 31,
   "id": "latin-console",
   "metadata": {},
   "outputs": [],
   "source": [
    "items_to_recommend = 5\n",
    "users_recommendations = model.recommendForAllUsers(items_to_recommend)\n",
    "#users_recommendations = model.recommendForUserSubset(itemSubset,items_to_recommend)\n",
    "\n",
    "users_to_recommend = 5\n",
    "items_recommendations = model.recommendForAllItems(users_to_recommend)\n",
    "#items_recommendations = model.recommendForItemSubset(userSubset,users_to_recommend)\n"
   ]
  },
  {
   "cell_type": "code",
   "execution_count": 32,
   "id": "accredited-makeup",
   "metadata": {
    "scrolled": true
   },
   "outputs": [
    {
     "name": "stdout",
     "output_type": "stream",
     "text": [
      "+----------+--------------------+\n",
      "|ReviewerID|     recommendations|\n",
      "+----------+--------------------+\n",
      "|       148|[[325, 10.866751]...|\n",
      "|       463|[[22, 8.955448], ...|\n",
      "|       496|[[155, 8.835874],...|\n",
      "|       833|[[38, 8.195966], ...|\n",
      "|      1088|[[50, 8.263234], ...|\n",
      "|      1238|[[34, 8.558122], ...|\n",
      "|      1342|[[177, 7.800251],...|\n",
      "|      1580|[[178, 8.667134],...|\n",
      "|      1591|[[182, 8.4626045]...|\n",
      "|      1645|[[167, 9.281074],...|\n",
      "|      1829|[[678, 9.029999],...|\n",
      "|      1959|[[170, 8.941368],...|\n",
      "|      2142|[[119, 8.957814],...|\n",
      "|      2366|[[234, 8.134719],...|\n",
      "|      2659|[[921, 7.755391],...|\n",
      "|      2866|[[95, 0.9999194],...|\n",
      "|      3175|[[46, 8.425614], ...|\n",
      "|      3794|[[177, 8.767233],...|\n",
      "|      3997|[[178, 6.6124516]...|\n",
      "|      4101|[[58, 8.519209], ...|\n",
      "+----------+--------------------+\n",
      "only showing top 20 rows\n",
      "\n",
      "+------+--------------------+\n",
      "|ItemID|     recommendations|\n",
      "+------+--------------------+\n",
      "|   148|[[65011, 12.75674...|\n",
      "|   463|[[29283, 7.788496...|\n",
      "|   471|[[32265, 5.355065...|\n",
      "|   496|[[58311, 8.568766...|\n",
      "|   833|[[53538, 5.521888...|\n",
      "|  1088|[[28665, 7.356246...|\n",
      "|  1238|[[70211, 7.795054...|\n",
      "|  1342|[[31599, 8.669876...|\n",
      "|  1580|[[12618, 4.997807...|\n",
      "|  1591|[[1190, 3.9972644...|\n",
      "|  1645|[[15312, 5.834232...|\n",
      "|  1829|[[74525, 4.997807...|\n",
      "|  1959|[[10544, 7.327014...|\n",
      "|  2122|[[1552, 5.958254]...|\n",
      "|  2142|[[81096, 1.994320...|\n",
      "|  2366|[[61758, 7.455006...|\n",
      "|  2659|[[72701, 4.997807...|\n",
      "|  2866|[[63254, 1.994620...|\n",
      "|  3175|[[4534, 4.9978075...|\n",
      "|  3749|[[9260, 4.997807]...|\n",
      "+------+--------------------+\n",
      "only showing top 20 rows\n",
      "\n"
     ]
    }
   ],
   "source": [
    "users_recommendations.show()\n",
    "items_recommendations.show()"
   ]
  },
  {
   "cell_type": "markdown",
   "id": "going-brighton",
   "metadata": {},
   "source": [
    "## Save User and Items recommendations as persistent tables"
   ]
  },
  {
   "cell_type": "code",
   "execution_count": 33,
   "id": "absent-broadcasting",
   "metadata": {},
   "outputs": [],
   "source": [
    "users_recommendations.write.mode(\"overwrite\").saveAsTable(\"UserRecommendationTable\")\n",
    "items_recommendations.write.mode(\"overwrite\").saveAsTable(\"ItemsRecommendationTable\")"
   ]
  }
 ],
 "metadata": {
  "kernelspec": {
   "display_name": "PySpark",
   "language": "python",
   "name": "pyspark"
  },
  "language_info": {
   "codemirror_mode": {
    "name": "ipython",
    "version": 3
   },
   "file_extension": ".py",
   "mimetype": "text/x-python",
   "name": "python",
   "nbconvert_exporter": "python",
   "pygments_lexer": "ipython3",
   "version": "3.8.5"
  }
 },
 "nbformat": 4,
 "nbformat_minor": 5
}
