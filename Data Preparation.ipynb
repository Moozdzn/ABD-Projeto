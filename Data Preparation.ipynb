{
 "cells": [
  {
   "cell_type": "markdown",
   "id": "warming-parent",
   "metadata": {},
   "source": [
    "## Necessary imports"
   ]
  },
  {
   "cell_type": "code",
   "execution_count": 1,
   "id": "early-hours",
   "metadata": {},
   "outputs": [],
   "source": [
    "import os\n",
    "import sys\n",
    "import numpy as np\n",
    "import scipy as sc\n",
    "import pandas as pd\n",
    "import seaborn as sns\n",
    "import matplotlib.pyplot as plt\n",
    "import warnings\n",
    "warnings.filterwarnings(\"ignore\")"
   ]
  },
  {
   "cell_type": "code",
   "execution_count": 2,
   "id": "wanted-branch",
   "metadata": {
    "scrolled": true
   },
   "outputs": [],
   "source": [
    "from pyspark.sql import SparkSession, Row\n",
    "from pyspark.sql.functions import *\n",
    "from pyspark.sql.types import *\n",
    "\n",
    "from pyspark.ml.feature import StringIndexer\n",
    "\n",
    "from pyspark.ml.recommendation import ALS\n",
    "from pyspark.ml.evaluation import RegressionEvaluator"
   ]
  },
  {
   "cell_type": "code",
   "execution_count": 3,
   "id": "descending-danger",
   "metadata": {},
   "outputs": [
    {
     "name": "stdout",
     "output_type": "stream",
     "text": [
      "/home/big/Projeto/ABD-Projeto\n",
      "total 673860\n",
      "drwxrwxr-x 8 big big      4096 mai 23 00:42  .\n",
      "drwxrwxr-x 3 big big      4096 mai 18 20:44  ..\n",
      "drwxr-xr-x 2 big big      4096 mai 22 20:55  ALSmodel\n",
      "-rw-rw-r-- 1 big big 689932433 mai 18 20:43  amazon_item_ratings.csv\n",
      "-rw-rw-r-- 1 big big     17582 mai 23 00:42 'Data Preparation.ipynb'\n",
      "-rw-rw-r-- 1 big big       680 mai 23 00:20  derby.log\n",
      "drwxrwxr-x 8 big big      4096 mai 18 20:39  .git\n",
      "drwxrwxr-x 2 big big      4096 mai 23 00:00  .ipynb_checkpoints\n",
      "drwxr-xr-x 2 big big      4096 mai 23 00:18  items.parquet\n",
      "drwxrwxr-x 5 big big      4096 mai 23 00:20  metastore_db\n",
      "-rw-rw-r-- 1 big big     18564 mai 18 22:55  Pre-Computing.ipynb\n",
      "-rw-rw-r-- 1 big big        12 mai 17 20:11  README.md\n",
      "-rw-rw-r-- 1 big big      9741 mai 19 00:22  Results.ipynb\n",
      "drwxrwxr-x 4 big big      4096 mai 23 00:20  spark-warehouse\n",
      "A3AF8FFZAZYNE5,0000000078,5.0,1092182400\n",
      "A2X4DOBWXXTX4A,1615725415,5.0,1327536000\n",
      "A202HM75ZHSEGJ,B0059XTUB8,5.0,1335830400\n",
      "A2V1XSFJL9BI3,0687038014,4.0,1312502400\n",
      "A10O53IQXHUTMK,B0069QFDRO,5.0,1382054400\n",
      "A124STU3GXMCGV,0131985701,5.0,1316390400\n"
     ]
    }
   ],
   "source": [
    "! pwd\n",
    "! ls -la\n",
    "! head -n 3 amazon_item_ratings.csv\n",
    "! tail -n 3 amazon_item_ratings.csv"
   ]
  },
  {
   "cell_type": "markdown",
   "id": "accessible-custody",
   "metadata": {},
   "source": [
    "## Reading from file"
   ]
  },
  {
   "cell_type": "code",
   "execution_count": 4,
   "id": "moderate-appliance",
   "metadata": {},
   "outputs": [],
   "source": [
    "df_items = spark.read.csv(\"amazon_item_ratings.csv\", header=False, inferSchema=True, sep=\",\") "
   ]
  },
  {
   "cell_type": "markdown",
   "id": "bigger-selection",
   "metadata": {},
   "source": [
    "Get a fraction of the sample"
   ]
  },
  {
   "cell_type": "code",
   "execution_count": 5,
   "id": "dynamic-prophet",
   "metadata": {},
   "outputs": [],
   "source": [
    "df_items = df_items.sample(fraction=0.05) #0.05 works"
   ]
  },
  {
   "cell_type": "markdown",
   "id": "convenient-mention",
   "metadata": {},
   "source": [
    "## Multiple checks on structure"
   ]
  },
  {
   "cell_type": "code",
   "execution_count": 6,
   "id": "collaborative-ratio",
   "metadata": {
    "scrolled": true
   },
   "outputs": [
    {
     "name": "stdout",
     "output_type": "stream",
     "text": [
      "root\n",
      " |-- _c0: string (nullable = true)\n",
      " |-- _c1: string (nullable = true)\n",
      " |-- _c2: double (nullable = true)\n",
      " |-- _c3: integer (nullable = true)\n",
      "\n"
     ]
    },
    {
     "data": {
      "text/plain": [
       "826913"
      ]
     },
     "execution_count": 6,
     "metadata": {},
     "output_type": "execute_result"
    }
   ],
   "source": [
    "df_items.printSchema()\n",
    "df_items.count()"
   ]
  },
  {
   "cell_type": "code",
   "execution_count": 7,
   "id": "rotary-weapon",
   "metadata": {},
   "outputs": [
    {
     "name": "stdout",
     "output_type": "stream",
     "text": [
      "+---+---+---+---+\n",
      "|_c0|_c1|_c2|_c3|\n",
      "+---+---+---+---+\n",
      "|  0|  0|  0|  0|\n",
      "+---+---+---+---+\n",
      "\n"
     ]
    }
   ],
   "source": [
    "#Check null values\n",
    "df_items.select([count(when(isnan(c) | col(c).isNull(), c)).alias(c) for c in df_items.columns]).show()"
   ]
  },
  {
   "cell_type": "code",
   "execution_count": 8,
   "id": "indoor-coaching",
   "metadata": {},
   "outputs": [
    {
     "name": "stdout",
     "output_type": "stream",
     "text": [
      "+--------------+----------+---+----------+\n",
      "|_c0           |_c1       |_c2|_c3       |\n",
      "+--------------+----------+---+----------+\n",
      "|A3AF8FFZAZYNE5|0000000078|5.0|1092182400|\n",
      "|AQS1YFK3BU5B0 |B007PQTYIG|5.0|1394236800|\n",
      "|A18ZANDD9X72AU|0735623872|5.0|1205539200|\n",
      "|A2BNNT9DX50HF8|030740515X|4.0|1231977600|\n",
      "|ACYLYFJIKE501 |B003HAL5ZO|1.0|1291766400|\n",
      "|A2WZL2M468O251|0399536957|3.0|1318636800|\n",
      "|A22UXNXX4MX0MD|B004HO58UW|2.0|1362009600|\n",
      "|A1HPDC0DRN1KYU|B003JQLG4Q|4.0|1326758400|\n",
      "|A1S63VUDE2YJVU|B0041MUB52|4.0|1388102400|\n",
      "|A1AS5N0JB24OIX|B009XZ9Q1C|5.0|1356825600|\n",
      "+--------------+----------+---+----------+\n",
      "only showing top 10 rows\n",
      "\n"
     ]
    }
   ],
   "source": [
    "df_items.show(10, truncate=False)"
   ]
  },
  {
   "cell_type": "code",
   "execution_count": 9,
   "id": "latter-chassis",
   "metadata": {
    "scrolled": true
   },
   "outputs": [
    {
     "name": "stdout",
     "output_type": "stream",
     "text": [
      "+-------+------------------+\n",
      "|summary|               _c2|\n",
      "+-------+------------------+\n",
      "|  count|            826913|\n",
      "|   mean| 4.162625330597052|\n",
      "| stddev|1.2614705476479164|\n",
      "|    min|               1.0|\n",
      "|    max|               5.0|\n",
      "+-------+------------------+\n",
      "\n"
     ]
    }
   ],
   "source": [
    "df_items.describe(\"_c2\").show()\n"
   ]
  },
  {
   "cell_type": "markdown",
   "id": "extraordinary-crime",
   "metadata": {},
   "source": [
    "# Indexing"
   ]
  },
  {
   "cell_type": "code",
   "execution_count": 10,
   "id": "juvenile-bunny",
   "metadata": {},
   "outputs": [
    {
     "name": "stdout",
     "output_type": "stream",
     "text": [
      "+----------+----------+\n",
      "|_c1       |Item_Index|\n",
      "+----------+----------+\n",
      "|0000000078|109757.0  |\n",
      "|B007PQTYIG|442985.0  |\n",
      "|0735623872|145094.0  |\n",
      "|030740515X|7460.0    |\n",
      "|B003HAL5ZO|360858.0  |\n",
      "|0399536957|129965.0  |\n",
      "|B004HO58UW|41982.0   |\n",
      "|B003JQLG4Q|362137.0  |\n",
      "|B0041MUB52|373762.0  |\n",
      "|B009XZ9Q1C|46018.0   |\n",
      "|B007ZJ1M9C|447558.0  |\n",
      "|B003A845OQ|356169.0  |\n",
      "|0972973052|167851.0  |\n",
      "|B002P3YRAY|84633.0   |\n",
      "|0888550081|162628.0  |\n",
      "|0521697522|136584.0  |\n",
      "|B0049LUI9O|523.0     |\n",
      "|B00ATSSQT0|483915.0  |\n",
      "|B000HDK0DC|8264.0    |\n",
      "|B00DNUF7KW|5786.0    |\n",
      "+----------+----------+\n",
      "only showing top 20 rows\n",
      "\n"
     ]
    }
   ],
   "source": [
    "indexerItem = StringIndexer(inputCol=\"_c1\", outputCol=\"Item_Index\")\n",
    "df_items_index_users = indexerItem.fit(df_items).transform(df_items)\n",
    "df_items_index_users.select(\"_c1\",\"Item_Index\").show(truncate=False)\n",
    "\n",
    "del df_items"
   ]
  },
  {
   "cell_type": "code",
   "execution_count": 11,
   "id": "healthy-bubble",
   "metadata": {},
   "outputs": [
    {
     "name": "stdout",
     "output_type": "stream",
     "text": [
      "+--------------+----------+\n",
      "|_c0           |User_Index|\n",
      "+--------------+----------+\n",
      "|A3AF8FFZAZYNE5|464847.0  |\n",
      "|AQS1YFK3BU5B0 |683735.0  |\n",
      "|A18ZANDD9X72AU|104574.0  |\n",
      "|A2BNNT9DX50HF8|294217.0  |\n",
      "|ACYLYFJIKE501 |615874.0  |\n",
      "|A2WZL2M468O251|398660.0  |\n",
      "|A22UXNXX4MX0MD|250799.0  |\n",
      "|A1HPDC0DRN1KYU|147285.0  |\n",
      "|A1S63VUDE2YJVU|198773.0  |\n",
      "|A1AS5N0JB24OIX|113523.0  |\n",
      "|A10QUCL9MVZKFQ|15119.0   |\n",
      "|A2AMXP8LOGKR11|289138.0  |\n",
      "|AAA3K49BH2WZC |602545.0  |\n",
      "|A1IBLRMHYAIHC0|150247.0  |\n",
      "|ABSL9JJZHACH7 |610088.0  |\n",
      "|A1TTCRUKCSIJ68|206748.0  |\n",
      "|ALXBWHZKR64XU |659803.0  |\n",
      "|A2QR25WYO60HA6|368289.0  |\n",
      "|ATN0EAYQ78LUK |697793.0  |\n",
      "|A2IN9EXJXRR1DA|328534.0  |\n",
      "+--------------+----------+\n",
      "only showing top 20 rows\n",
      "\n"
     ]
    }
   ],
   "source": [
    "indexerUsers = StringIndexer(inputCol=\"_c0\", outputCol=\"User_Index\")\n",
    "df_items_indexed = indexerUsers.fit(df_items_index_users).transform(df_items_index_users)\n",
    "df_items_indexed.select(\"_c0\",\"User_Index\").show(truncate=False)\n",
    "\n",
    "del df_items_index_users"
   ]
  },
  {
   "cell_type": "markdown",
   "id": "aggressive-blank",
   "metadata": {},
   "source": [
    "## Cleaning"
   ]
  },
  {
   "cell_type": "code",
   "execution_count": 12,
   "id": "middle-miami",
   "metadata": {},
   "outputs": [
    {
     "name": "stdout",
     "output_type": "stream",
     "text": [
      "root\n",
      " |-- _c0: string (nullable = true)\n",
      " |-- _c1: string (nullable = true)\n",
      " |-- _c2: double (nullable = true)\n",
      " |-- _c3: integer (nullable = true)\n",
      " |-- Item_Index: double (nullable = false)\n",
      " |-- User_Index: double (nullable = false)\n",
      "\n"
     ]
    }
   ],
   "source": [
    "df_items_indexed.printSchema()"
   ]
  },
  {
   "cell_type": "code",
   "execution_count": 13,
   "id": "environmental-financing",
   "metadata": {},
   "outputs": [],
   "source": [
    "df_items_indexed = df_items_indexed.drop(\"_c0\",\"_c1\") "
   ]
  },
  {
   "cell_type": "code",
   "execution_count": 14,
   "id": "confused-marine",
   "metadata": {
    "scrolled": true
   },
   "outputs": [
    {
     "name": "stdout",
     "output_type": "stream",
     "text": [
      "+---+----------+----------+----------+\n",
      "|_c2|_c3       |Item_Index|User_Index|\n",
      "+---+----------+----------+----------+\n",
      "|5.0|1092182400|109757.0  |464847.0  |\n",
      "|5.0|1394236800|442985.0  |683735.0  |\n",
      "|5.0|1205539200|145094.0  |104574.0  |\n",
      "|4.0|1231977600|7460.0    |294217.0  |\n",
      "|1.0|1291766400|360858.0  |615874.0  |\n",
      "|3.0|1318636800|129965.0  |398660.0  |\n",
      "|2.0|1362009600|41982.0   |250799.0  |\n",
      "|4.0|1326758400|362137.0  |147285.0  |\n",
      "|4.0|1388102400|373762.0  |198773.0  |\n",
      "|5.0|1356825600|46018.0   |113523.0  |\n",
      "+---+----------+----------+----------+\n",
      "only showing top 10 rows\n",
      "\n"
     ]
    }
   ],
   "source": [
    "df_items_indexed.show(10, truncate=False)"
   ]
  },
  {
   "cell_type": "markdown",
   "id": "moderate-filter",
   "metadata": {},
   "source": [
    "## Store data"
   ]
  },
  {
   "cell_type": "code",
   "execution_count": 15,
   "id": "specified-checkout",
   "metadata": {},
   "outputs": [],
   "source": [
    "output_items = \"items.parquet\"\n",
    "df_items_indexed.write.mode(\"overwrite\").parquet(output_items)"
   ]
  },
  {
   "cell_type": "code",
   "execution_count": 18,
   "id": "driven-cowboy",
   "metadata": {
    "scrolled": true
   },
   "outputs": [
    {
     "ename": "AnalysisException",
     "evalue": "Can not create the managed table('`ItemsTable`'). The associated location('file:/home/big/Desktop/Aulas/Projeto/spark-warehouse/itemstable') already exists.;",
     "output_type": "error",
     "traceback": [
      "\u001b[0;31m---------------------------------------------------------------------------\u001b[0m",
      "\u001b[0;31mAnalysisException\u001b[0m                         Traceback (most recent call last)",
      "\u001b[0;32m<ipython-input-18-776f1fb4c6a0>\u001b[0m in \u001b[0;36m<module>\u001b[0;34m\u001b[0m\n\u001b[0;32m----> 1\u001b[0;31m \u001b[0mdf_items_indexed\u001b[0m\u001b[0;34m.\u001b[0m\u001b[0mwrite\u001b[0m\u001b[0;34m.\u001b[0m\u001b[0mmode\u001b[0m\u001b[0;34m(\u001b[0m\u001b[0;34m\"overwrite\"\u001b[0m\u001b[0;34m)\u001b[0m\u001b[0;34m.\u001b[0m\u001b[0msaveAsTable\u001b[0m\u001b[0;34m(\u001b[0m\u001b[0;34m\"ItemsTable\"\u001b[0m\u001b[0;34m)\u001b[0m\u001b[0;34m\u001b[0m\u001b[0;34m\u001b[0m\u001b[0m\n\u001b[0m",
      "\u001b[0;32m/opt/spark/python/pyspark/sql/readwriter.py\u001b[0m in \u001b[0;36msaveAsTable\u001b[0;34m(self, name, format, mode, partitionBy, **options)\u001b[0m\n\u001b[1;32m    866\u001b[0m         \u001b[0;32mif\u001b[0m \u001b[0mformat\u001b[0m \u001b[0;32mis\u001b[0m \u001b[0;32mnot\u001b[0m \u001b[0;32mNone\u001b[0m\u001b[0;34m:\u001b[0m\u001b[0;34m\u001b[0m\u001b[0;34m\u001b[0m\u001b[0m\n\u001b[1;32m    867\u001b[0m             \u001b[0mself\u001b[0m\u001b[0;34m.\u001b[0m\u001b[0mformat\u001b[0m\u001b[0;34m(\u001b[0m\u001b[0mformat\u001b[0m\u001b[0;34m)\u001b[0m\u001b[0;34m\u001b[0m\u001b[0;34m\u001b[0m\u001b[0m\n\u001b[0;32m--> 868\u001b[0;31m         \u001b[0mself\u001b[0m\u001b[0;34m.\u001b[0m\u001b[0m_jwrite\u001b[0m\u001b[0;34m.\u001b[0m\u001b[0msaveAsTable\u001b[0m\u001b[0;34m(\u001b[0m\u001b[0mname\u001b[0m\u001b[0;34m)\u001b[0m\u001b[0;34m\u001b[0m\u001b[0;34m\u001b[0m\u001b[0m\n\u001b[0m\u001b[1;32m    869\u001b[0m \u001b[0;34m\u001b[0m\u001b[0m\n\u001b[1;32m    870\u001b[0m     \u001b[0;34m@\u001b[0m\u001b[0msince\u001b[0m\u001b[0;34m(\u001b[0m\u001b[0;36m1.4\u001b[0m\u001b[0;34m)\u001b[0m\u001b[0;34m\u001b[0m\u001b[0;34m\u001b[0m\u001b[0m\n",
      "\u001b[0;32m/opt/spark/python/lib/py4j-0.10.9-src.zip/py4j/java_gateway.py\u001b[0m in \u001b[0;36m__call__\u001b[0;34m(self, *args)\u001b[0m\n\u001b[1;32m   1302\u001b[0m \u001b[0;34m\u001b[0m\u001b[0m\n\u001b[1;32m   1303\u001b[0m         \u001b[0manswer\u001b[0m \u001b[0;34m=\u001b[0m \u001b[0mself\u001b[0m\u001b[0;34m.\u001b[0m\u001b[0mgateway_client\u001b[0m\u001b[0;34m.\u001b[0m\u001b[0msend_command\u001b[0m\u001b[0;34m(\u001b[0m\u001b[0mcommand\u001b[0m\u001b[0;34m)\u001b[0m\u001b[0;34m\u001b[0m\u001b[0;34m\u001b[0m\u001b[0m\n\u001b[0;32m-> 1304\u001b[0;31m         return_value = get_return_value(\n\u001b[0m\u001b[1;32m   1305\u001b[0m             answer, self.gateway_client, self.target_id, self.name)\n\u001b[1;32m   1306\u001b[0m \u001b[0;34m\u001b[0m\u001b[0m\n",
      "\u001b[0;32m/opt/spark/python/pyspark/sql/utils.py\u001b[0m in \u001b[0;36mdeco\u001b[0;34m(*a, **kw)\u001b[0m\n\u001b[1;32m    132\u001b[0m                 \u001b[0;31m# Hide where the exception came from that shows a non-Pythonic\u001b[0m\u001b[0;34m\u001b[0m\u001b[0;34m\u001b[0m\u001b[0;34m\u001b[0m\u001b[0m\n\u001b[1;32m    133\u001b[0m                 \u001b[0;31m# JVM exception message.\u001b[0m\u001b[0;34m\u001b[0m\u001b[0;34m\u001b[0m\u001b[0;34m\u001b[0m\u001b[0m\n\u001b[0;32m--> 134\u001b[0;31m                 \u001b[0mraise_from\u001b[0m\u001b[0;34m(\u001b[0m\u001b[0mconverted\u001b[0m\u001b[0;34m)\u001b[0m\u001b[0;34m\u001b[0m\u001b[0;34m\u001b[0m\u001b[0m\n\u001b[0m\u001b[1;32m    135\u001b[0m             \u001b[0;32melse\u001b[0m\u001b[0;34m:\u001b[0m\u001b[0;34m\u001b[0m\u001b[0;34m\u001b[0m\u001b[0m\n\u001b[1;32m    136\u001b[0m                 \u001b[0;32mraise\u001b[0m\u001b[0;34m\u001b[0m\u001b[0;34m\u001b[0m\u001b[0m\n",
      "\u001b[0;32m/opt/spark/python/pyspark/sql/utils.py\u001b[0m in \u001b[0;36mraise_from\u001b[0;34m(e)\u001b[0m\n",
      "\u001b[0;31mAnalysisException\u001b[0m: Can not create the managed table('`ItemsTable`'). The associated location('file:/home/big/Desktop/Aulas/Projeto/spark-warehouse/itemstable') already exists.;"
     ]
    }
   ],
   "source": [
    "\n",
    "df_items_indexed.write.mode(\"overwrite\").saveAsTable(\"ItemsTable\")"
   ]
  },
  {
   "cell_type": "code",
   "execution_count": null,
   "id": "outdoor-christopher",
   "metadata": {},
   "outputs": [],
   "source": []
  }
 ],
 "metadata": {
  "kernelspec": {
   "display_name": "PySpark",
   "language": "python",
   "name": "pyspark"
  },
  "language_info": {
   "codemirror_mode": {
    "name": "ipython",
    "version": 3
   },
   "file_extension": ".py",
   "mimetype": "text/x-python",
   "name": "python",
   "nbconvert_exporter": "python",
   "pygments_lexer": "ipython3",
   "version": "3.8.5"
  }
 },
 "nbformat": 4,
 "nbformat_minor": 5
}
