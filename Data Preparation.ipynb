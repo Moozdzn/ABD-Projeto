{
 "cells": [
  {
   "cell_type": "code",
   "execution_count": null,
   "id": "early-hours",
   "metadata": {},
   "outputs": [],
   "source": [
    "import os\n",
    "import sys\n",
    "import numpy as np\n",
    "import scipy as sc\n",
    "import pandas as pd\n",
    "import seaborn as sns\n",
    "import matplotlib.pyplot as plt\n",
    "import warnings\n",
    "warnings.filterwarnings(\"ignore\")"
   ]
  },
  {
   "cell_type": "code",
   "execution_count": 6,
   "id": "wanted-branch",
   "metadata": {},
   "outputs": [],
   "source": [
    "from pyspark.sql import SparkSession, Row\n",
    "from pyspark.sql.functions import *\n",
    "from pyspark.sql.types import *\n",
    "\n",
    "from pyspark.ml.feature import StringIndexer\n",
    "from pyspark.ml.recommendation import ALS\n",
    "from pyspark.ml.evaluation import RegressionEvaluator\n",
    "from pyspark.ml import Pipeline"
   ]
  },
  {
   "cell_type": "code",
   "execution_count": 7,
   "id": "toxic-member",
   "metadata": {},
   "outputs": [],
   "source": [
    "MAX_MEMORY = \"10g\"\n",
    "\n",
    "spark = SparkSession \\\n",
    "    .builder \\\n",
    "    .appName(\"Foo\") \\\n",
    "    .config(\"spark.executor.memory\", MAX_MEMORY) \\\n",
    "    .config(\"spark.driver.memory\", MAX_MEMORY) \\\n",
    "    .getOrCreate()"
   ]
  },
  {
   "cell_type": "code",
   "execution_count": 8,
   "id": "descending-danger",
   "metadata": {},
   "outputs": [
    {
     "name": "stdout",
     "output_type": "stream",
     "text": [
      "/home/big/Desktop/Aulas/Projeto\n",
      "total 677344\n",
      "drwxrwxr-x 7 big big      4096 mai 18 18:46  .\n",
      "drwxrwxr-x 3 big big      4096 mai 18 15:59  ..\n",
      "drwxr-xr-x 5 big big      4096 mai 18 17:31  ALSmodel\n",
      "-rwxrw-rw- 1 big big 689932433 mai 18 15:22  amazon_item_ratings.csv\n",
      "-rw-rw-r-- 1 big big     35678 mai 18 18:45 'Data Preparation.ipynb'\n",
      "-rw-rw-r-- 1 big big   3568168 mai 18 18:45  derby.log\n",
      "drwxrwxr-x 2 big big      4096 mai 18 17:51  .ipynb_checkpoints\n",
      "drwxr-xr-x 2 big big      4096 mai 18 17:31  items.parquet\n",
      "drwxrwxr-x 5 big big      4096 mai 18 18:45  metastore_db\n",
      "-rw-rw-r-- 1 big big     22995 mai 18 18:46  Pre-Computing.ipynb\n",
      "drwxr-xr-x 5 big big      4096 mai 18 17:32  spark-warehouse\n",
      "A3AF8FFZAZYNE5,0000000078,5.0,1092182400\n",
      "A2X4DOBWXXTX4A,1615725415,5.0,1327536000\n",
      "A202HM75ZHSEGJ,B0059XTUB8,5.0,1335830400\n",
      "A2V1XSFJL9BI3,0687038014,4.0,1312502400\n",
      "A10O53IQXHUTMK,B0069QFDRO,5.0,1382054400\n",
      "A124STU3GXMCGV,0131985701,5.0,1316390400\n"
     ]
    }
   ],
   "source": [
    "! pwd\n",
    "! ls -la\n",
    "! head -n 3 amazon_item_ratings.csv\n",
    "! tail -n 3 amazon_item_ratings.csv"
   ]
  },
  {
   "cell_type": "code",
   "execution_count": 9,
   "id": "moderate-appliance",
   "metadata": {},
   "outputs": [],
   "source": [
    "df_items = spark.read.csv(\"amazon_item_ratings.csv\", header=False, inferSchema=True, sep=\",\") "
   ]
  },
  {
   "cell_type": "code",
   "execution_count": 10,
   "id": "dynamic-prophet",
   "metadata": {},
   "outputs": [],
   "source": [
    "df_items = df_items.sample(fraction=0.001)"
   ]
  },
  {
   "cell_type": "code",
   "execution_count": 11,
   "id": "collaborative-ratio",
   "metadata": {},
   "outputs": [
    {
     "name": "stdout",
     "output_type": "stream",
     "text": [
      "root\n",
      " |-- _c0: string (nullable = true)\n",
      " |-- _c1: string (nullable = true)\n",
      " |-- _c2: double (nullable = true)\n",
      " |-- _c3: integer (nullable = true)\n",
      "\n"
     ]
    },
    {
     "data": {
      "text/plain": [
       "16304"
      ]
     },
     "execution_count": 11,
     "metadata": {},
     "output_type": "execute_result"
    }
   ],
   "source": [
    "df_items.printSchema()\n",
    "df_items.count()"
   ]
  },
  {
   "cell_type": "code",
   "execution_count": 12,
   "id": "rotary-weapon",
   "metadata": {},
   "outputs": [
    {
     "name": "stdout",
     "output_type": "stream",
     "text": [
      "+---+---+---+---+\n",
      "|_c0|_c1|_c2|_c3|\n",
      "+---+---+---+---+\n",
      "|  0|  0|  0|  0|\n",
      "+---+---+---+---+\n",
      "\n"
     ]
    }
   ],
   "source": [
    "#Check null values\n",
    "df_items.select([count(when(isnan(c) | col(c).isNull(), c)).alias(c) for c in df_items.columns]).show()"
   ]
  },
  {
   "cell_type": "code",
   "execution_count": 13,
   "id": "indoor-coaching",
   "metadata": {},
   "outputs": [
    {
     "name": "stdout",
     "output_type": "stream",
     "text": [
      "+--------------+----------+---+----------+\n",
      "|_c0           |_c1       |_c2|_c3       |\n",
      "+--------------+----------+---+----------+\n",
      "|AO6UTGZMS4FJ0 |B000F9YN22|5.0|1353888000|\n",
      "|A2428WP7FV83IV|0870003844|5.0|1295049600|\n",
      "|A2P1XEYTORCBFK|B00BI4J0S0|2.0|1362441600|\n",
      "|A2UXRIBP5ZPEM4|B000W275JK|5.0|1352332800|\n",
      "|ARMVAHWQQ9S8A |0026009102|5.0|1270166400|\n",
      "|A24VXHFVPBO0UJ|B000GYSZ8Y|5.0|1293753600|\n",
      "|A3TC3BCKUYYIKX|0192880039|5.0|1190505600|\n",
      "|A2S6XTE1VWOJKP|B009SD9IB2|4.0|1395273600|\n",
      "|A1F9QCTB7SAOR |B001USNEDQ|5.0|1351123200|\n",
      "|A3G6JEPMHP8H1W|B0069SQSQ2|5.0|1355961600|\n",
      "+--------------+----------+---+----------+\n",
      "only showing top 10 rows\n",
      "\n"
     ]
    }
   ],
   "source": [
    "df_items.show(10, truncate=False)"
   ]
  },
  {
   "cell_type": "code",
   "execution_count": 14,
   "id": "latter-chassis",
   "metadata": {},
   "outputs": [
    {
     "name": "stdout",
     "output_type": "stream",
     "text": [
      "+-------+------------------+\n",
      "|summary|               _c2|\n",
      "+-------+------------------+\n",
      "|  count|             16304|\n",
      "|   mean| 4.170571638861629|\n",
      "| stddev|1.2523336560631257|\n",
      "|    min|               1.0|\n",
      "|    max|               5.0|\n",
      "+-------+------------------+\n",
      "\n"
     ]
    }
   ],
   "source": [
    "df_items.describe(\"_c2\").show()\n"
   ]
  },
  {
   "cell_type": "code",
   "execution_count": 15,
   "id": "analyzed-verification",
   "metadata": {},
   "outputs": [
    {
     "name": "stdout",
     "output_type": "stream",
     "text": [
      "+--------------+----------+---+----------+----------+----------+\n",
      "|           _c0|       _c1|_c2|       _c3|Item_Index|User_Index|\n",
      "+--------------+----------+---+----------+----------+----------+\n",
      "| AO6UTGZMS4FJ0|B000F9YN22|5.0|1353888000|    6028.0|   14777.0|\n",
      "|A2428WP7FV83IV|0870003844|5.0|1295049600|    2433.0|    4873.0|\n",
      "|A2P1XEYTORCBFK|B00BI4J0S0|2.0|1362441600|   14287.0|    7321.0|\n",
      "|A2UXRIBP5ZPEM4|B000W275JK|5.0|1352332800|    6979.0|    8001.0|\n",
      "| ARMVAHWQQ9S8A|0026009102|5.0|1270166400|      81.0|   15175.0|\n",
      "|A24VXHFVPBO0UJ|B000GYSZ8Y|5.0|1293753600|    6194.0|    4962.0|\n",
      "|A3TC3BCKUYYIKX|0192880039|5.0|1190505600|     775.0|   11981.0|\n",
      "|A2S6XTE1VWOJKP|B009SD9IB2|4.0|1395273600|   13697.0|    7703.0|\n",
      "| A1F9QCTB7SAOR|B001USNEDQ|5.0|1351123200|    8271.0|    1875.0|\n",
      "|A3G6JEPMHP8H1W|B0069SQSQ2|5.0|1355961600|   11937.0|   10479.0|\n",
      "|A2V3WNZ06H31II|0446678805|5.0|1367366400|    1482.0|    8025.0|\n",
      "| ASYKUKD5MW46V|B004RJQ9X2|3.0|1370649600|   10756.0|      77.0|\n",
      "| A4G1D7DU005YO|B008JGSM6G|5.0|1392595200|      22.0|   12400.0|\n",
      "|A1192KN5U7Y95Q|0615190367|5.0|1315526400|    1734.0|     257.0|\n",
      "|A1AF82XX3TBJCS|B000VZ3ADS|4.0|1199232000|    6970.0|    1303.0|\n",
      "|A1JJY7WDVI405S|B004X6LY0C|4.0|1285113600|   10944.0|    2407.0|\n",
      "|A1I5EPM6OJVUA4|0761945598|4.0|1356912000|    2027.0|    2226.0|\n",
      "|A32UQRKW2AHVSS|0446547573|3.0|1353888000|      38.0|    8933.0|\n",
      "|A2AN8XANUXCVTC|B00AY6PQFO|5.0|1402444800|   14092.0|    5628.0|\n",
      "|A35J8B062520K4|B001JHXOTW|1.0|1366934400|    7949.0|    9240.0|\n",
      "+--------------+----------+---+----------+----------+----------+\n",
      "only showing top 20 rows\n",
      "\n"
     ]
    }
   ],
   "source": [
    "indexers = [StringIndexer(inputCol=\"_c1\", outputCol=\"Item_Index\") , StringIndexer(inputCol=\"_c0\", outputCol=\"User_Index\")]\n",
    "\n",
    "pipeline = Pipeline(stages=indexers)\n",
    "df_items_indexed = pipeline.fit(df_items).transform(df_items)\n",
    "\n",
    "df_items_indexed.show()"
   ]
  },
  {
   "cell_type": "code",
   "execution_count": null,
   "id": "floral-anatomy",
   "metadata": {},
   "outputs": [],
   "source": [
    "#indexerItem = StringIndexer(inputCol=\"_c1\", outputCol=\"Item_Index\")\n",
    "#df_items_index_users = indexerItem.fit(df_items).transform(df_items)\n",
    "#df_items_index_users.select(\"_c1\",\"Item-Index\").show(truncate=False)\n",
    "\n",
    "#indexerUsers = StringIndexer(inputCol=\"_c0\", outputCol=\"User-Index\")\n",
    "#df_items_indexed = indexerUsers.fit(df_items_index_users).transform(df_items_index_users)\n",
    "#df_items_indexed.select(\"_c0\",\"User-Index\").show(truncate=False)"
   ]
  },
  {
   "cell_type": "code",
   "execution_count": 13,
   "id": "short-blair",
   "metadata": {},
   "outputs": [],
   "source": [
    "del df_items"
   ]
  },
  {
   "cell_type": "code",
   "execution_count": 12,
   "id": "middle-miami",
   "metadata": {},
   "outputs": [
    {
     "name": "stdout",
     "output_type": "stream",
     "text": [
      "root\n",
      " |-- _c0: string (nullable = true)\n",
      " |-- _c1: string (nullable = true)\n",
      " |-- _c2: double (nullable = true)\n",
      " |-- _c3: integer (nullable = true)\n",
      " |-- Item_Index: double (nullable = false)\n",
      " |-- User_Index: double (nullable = false)\n",
      "\n"
     ]
    }
   ],
   "source": [
    "df_items_indexed.printSchema()"
   ]
  },
  {
   "cell_type": "code",
   "execution_count": 14,
   "id": "environmental-financing",
   "metadata": {},
   "outputs": [],
   "source": [
    "df_items_indexed = df_items_indexed.drop(\"_c0\",\"_c1\") "
   ]
  },
  {
   "cell_type": "code",
   "execution_count": 15,
   "id": "confused-marine",
   "metadata": {},
   "outputs": [
    {
     "name": "stdout",
     "output_type": "stream",
     "text": [
      "+---+----------+----------+----------+\n",
      "|_c2|_c3       |Item_Index|User_Index|\n",
      "+---+----------+----------+----------+\n",
      "|1.0|1383177600|13641.0   |2468.0    |\n",
      "|5.0|1399766400|87.0      |7173.0    |\n",
      "|3.0|1362355200|2141.0    |5774.0    |\n",
      "|5.0|1362355200|12924.0   |13106.0   |\n",
      "|4.0|1388102400|6212.0    |6630.0    |\n",
      "|5.0|1356220800|4334.0    |4996.0    |\n",
      "|4.0|1403049600|8442.0    |9019.0    |\n",
      "|5.0|1388966400|5493.0    |8828.0    |\n",
      "|1.0|1337817600|12333.0   |9136.0    |\n",
      "|4.0|1228521600|940.0     |15225.0   |\n",
      "+---+----------+----------+----------+\n",
      "only showing top 10 rows\n",
      "\n"
     ]
    }
   ],
   "source": [
    "df_items_indexed.show(10, truncate=False)"
   ]
  },
  {
   "cell_type": "code",
   "execution_count": 69,
   "id": "sound-vanilla",
   "metadata": {},
   "outputs": [
    {
     "name": "stdout",
     "output_type": "stream",
     "text": [
      "root\n",
      " |-- _c2: double (nullable = true)\n",
      " |-- _c3: integer (nullable = true)\n",
      " |-- Item_Index: double (nullable = false)\n",
      " |-- User_Index: double (nullable = false)\n",
      "\n"
     ]
    }
   ],
   "source": [
    "df_items_indexed.printSchema()"
   ]
  },
  {
   "cell_type": "code",
   "execution_count": 70,
   "id": "specified-checkout",
   "metadata": {},
   "outputs": [],
   "source": [
    "output_items = \"items.parquet\"\n",
    "df_items_indexed.write.mode(\"overwrite\").parquet(output_items)"
   ]
  },
  {
   "cell_type": "code",
   "execution_count": 71,
   "id": "driven-cowboy",
   "metadata": {},
   "outputs": [],
   "source": [
    "df_items_indexed.write.mode(\"overwrite\").saveAsTable(\"ItemsTable\")"
   ]
  }
 ],
 "metadata": {
  "kernelspec": {
   "display_name": "PySpark",
   "language": "python",
   "name": "pyspark"
  },
  "language_info": {
   "codemirror_mode": {
    "name": "ipython",
    "version": 3
   },
   "file_extension": ".py",
   "mimetype": "text/x-python",
   "name": "python",
   "nbconvert_exporter": "python",
   "pygments_lexer": "ipython3",
   "version": "3.8.5"
  }
 },
 "nbformat": 4,
 "nbformat_minor": 5
}
