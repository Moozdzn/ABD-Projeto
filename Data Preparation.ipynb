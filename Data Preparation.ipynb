{
 "cells": [
  {
   "cell_type": "markdown",
   "id": "regulation-relationship",
   "metadata": {},
   "source": [
    "# Data Preparation"
   ]
  },
  {
   "cell_type": "markdown",
   "id": "warming-parent",
   "metadata": {},
   "source": [
    "## Necessary imports"
   ]
  },
  {
   "cell_type": "code",
   "execution_count": 1,
   "id": "early-hours",
   "metadata": {},
   "outputs": [],
   "source": [
    "import os\n",
    "import sys\n",
    "import warnings\n",
    "warnings.filterwarnings(\"ignore\")"
   ]
  },
  {
   "cell_type": "code",
   "execution_count": 2,
   "id": "wanted-branch",
   "metadata": {
    "scrolled": true
   },
   "outputs": [],
   "source": [
    "from pyspark.sql.functions import *\n",
    "from pyspark.sql.types import *\n",
    "from pyspark.ml.feature import StringIndexer\n",
    "from pyspark.ml import Pipeline"
   ]
  },
  {
   "cell_type": "code",
   "execution_count": 3,
   "id": "descending-danger",
   "metadata": {},
   "outputs": [
    {
     "name": "stdout",
     "output_type": "stream",
     "text": [
      "/home/big/ABD-Projeto\n",
      "total 673856\n",
      "drwxrwxr-x  8 big big      4096 mai 23 19:59  .\n",
      "drwxr-xr-x 28 big big      4096 mai 23 19:49  ..\n",
      "drwxrwxr-x  5 big big      4096 mai 23 19:49  ALSmodel\n",
      "-rw-rw-r--  1 big big 689932433 mai 18 20:43  amazon_item_ratings.csv\n",
      "-rw-rw-r--  1 big big     16978 mai 23 19:49 'Data Preparation.ipynb'\n",
      "-rw-rw-r--  1 big big       684 mai 23 19:49  derby.log\n",
      "drwxrwxr-x  8 big big      4096 mai 23 19:49  .git\n",
      "drwxrwxr-x  2 big big      4096 mai 23 19:49  .ipynb_checkpoints\n",
      "drwxrwxr-x  2 big big      4096 mai 23 19:49  items.parquet\n",
      "drwxrwxr-x  4 big big      4096 mai 23 19:49  metastore_db\n",
      "-rw-rw-r--  1 big big     13090 mai 23 19:49  Pre-Computing.ipynb\n",
      "-rw-rw-r--  1 big big        12 mai 23 19:49  README.md\n",
      "-rw-rw-r--  1 big big      9347 mai 23 19:49  Results.ipynb\n",
      "drwxrwxr-x  5 big big      4096 mai 23 19:49  spark-warehouse\n",
      "A3AF8FFZAZYNE5,0000000078,5.0,1092182400\n",
      "A2X4DOBWXXTX4A,1615725415,5.0,1327536000\n",
      "A202HM75ZHSEGJ,B0059XTUB8,5.0,1335830400\n",
      "A2V1XSFJL9BI3,0687038014,4.0,1312502400\n",
      "A10O53IQXHUTMK,B0069QFDRO,5.0,1382054400\n",
      "A124STU3GXMCGV,0131985701,5.0,1316390400\n"
     ]
    }
   ],
   "source": [
    "! pwd\n",
    "! ls -la\n",
    "! head -n 3 amazon_item_ratings.csv\n",
    "! tail -n 3 amazon_item_ratings.csv"
   ]
  },
  {
   "cell_type": "markdown",
   "id": "accessible-custody",
   "metadata": {},
   "source": [
    "## Read dataset from file"
   ]
  },
  {
   "cell_type": "code",
   "execution_count": 4,
   "id": "moderate-appliance",
   "metadata": {},
   "outputs": [],
   "source": [
    "df_items = spark.read.csv(\"amazon_item_ratings.csv\", header=False, inferSchema=True, sep=\",\") "
   ]
  },
  {
   "cell_type": "markdown",
   "id": "bigger-selection",
   "metadata": {},
   "source": [
    "Get a fraction of the sample"
   ]
  },
  {
   "cell_type": "code",
   "execution_count": 5,
   "id": "dynamic-prophet",
   "metadata": {},
   "outputs": [],
   "source": [
    "df_items = df_items.sample(fraction=0.05) #0.05 works"
   ]
  },
  {
   "cell_type": "markdown",
   "id": "convenient-mention",
   "metadata": {},
   "source": [
    "## Multiple checks on structure"
   ]
  },
  {
   "cell_type": "markdown",
   "id": "unsigned-pointer",
   "metadata": {},
   "source": [
    "Check dataset schema and column datatypes"
   ]
  },
  {
   "cell_type": "code",
   "execution_count": 6,
   "id": "collaborative-ratio",
   "metadata": {
    "scrolled": true
   },
   "outputs": [
    {
     "name": "stdout",
     "output_type": "stream",
     "text": [
      "root\n",
      " |-- _c0: string (nullable = true)\n",
      " |-- _c1: string (nullable = true)\n",
      " |-- _c2: double (nullable = true)\n",
      " |-- _c3: integer (nullable = true)\n",
      "\n"
     ]
    },
    {
     "data": {
      "text/plain": [
       "826344"
      ]
     },
     "execution_count": 6,
     "metadata": {},
     "output_type": "execute_result"
    }
   ],
   "source": [
    "df_items.printSchema()\n",
    "df_items.count()"
   ]
  },
  {
   "cell_type": "markdown",
   "id": "coral-qualification",
   "metadata": {},
   "source": [
    "Display 10 rows"
   ]
  },
  {
   "cell_type": "code",
   "execution_count": 7,
   "id": "synthetic-result",
   "metadata": {},
   "outputs": [
    {
     "name": "stdout",
     "output_type": "stream",
     "text": [
      "+--------------+----------+---+----------+\n",
      "|_c0           |_c1       |_c2|_c3       |\n",
      "+--------------+----------+---+----------+\n",
      "|A1NHVWB3UKEBNN|0143144723|4.0|1271376000|\n",
      "|A4ZKY17VUBPZH |B005X9LJBM|5.0|1386028800|\n",
      "|A1FTQLG098SXR9|B007YA15B2|5.0|1342310400|\n",
      "|A3QLVWSY7DFVJ4|1497408180|4.0|1404864000|\n",
      "|AM8D6ZN0IRO8K |B0077RUQJ4|5.0|1381017600|\n",
      "|A1CULHD7XSO6AZ|B0069G5Z9K|4.0|1360454400|\n",
      "|A12JBHOSYHW03 |B006Z6E8AG|5.0|1363305600|\n",
      "|A2F7F1VJZTZF0P|B003WETVKG|2.0|1305676800|\n",
      "|A2RLLV430OWYJC|B001GNCM2O|5.0|1250380800|\n",
      "|A1PFZN9J7XORUT|0062085484|3.0|1367280000|\n",
      "+--------------+----------+---+----------+\n",
      "only showing top 10 rows\n",
      "\n"
     ]
    }
   ],
   "source": [
    "df_items.show(n=10, truncate=False)"
   ]
  },
  {
   "cell_type": "markdown",
   "id": "ahead-seven",
   "metadata": {},
   "source": [
    "Change column names to improve readabilty"
   ]
  },
  {
   "cell_type": "code",
   "execution_count": 8,
   "id": "declared-powder",
   "metadata": {},
   "outputs": [],
   "source": [
    "df_items = df_items.withColumnRenamed(\"_c0\",\"Reviewer\") \\\n",
    "    .withColumnRenamed(\"_c1\",\"Item\") \\\n",
    "    .withColumnRenamed(\"_c2\",\"Rating\") \\\n",
    "    .withColumnRenamed(\"_c3\",\"Timestamp\")"
   ]
  },
  {
   "cell_type": "code",
   "execution_count": 9,
   "id": "necessary-identifier",
   "metadata": {},
   "outputs": [
    {
     "name": "stdout",
     "output_type": "stream",
     "text": [
      "+--------------+----------+------+----------+\n",
      "|Reviewer      |Item      |Rating|Timestamp |\n",
      "+--------------+----------+------+----------+\n",
      "|A1NHVWB3UKEBNN|0143144723|4.0   |1271376000|\n",
      "|A4ZKY17VUBPZH |B005X9LJBM|5.0   |1386028800|\n",
      "|A1FTQLG098SXR9|B007YA15B2|5.0   |1342310400|\n",
      "|A3QLVWSY7DFVJ4|1497408180|4.0   |1404864000|\n",
      "|AM8D6ZN0IRO8K |B0077RUQJ4|5.0   |1381017600|\n",
      "|A1CULHD7XSO6AZ|B0069G5Z9K|4.0   |1360454400|\n",
      "|A12JBHOSYHW03 |B006Z6E8AG|5.0   |1363305600|\n",
      "|A2F7F1VJZTZF0P|B003WETVKG|2.0   |1305676800|\n",
      "|A2RLLV430OWYJC|B001GNCM2O|5.0   |1250380800|\n",
      "|A1PFZN9J7XORUT|0062085484|3.0   |1367280000|\n",
      "+--------------+----------+------+----------+\n",
      "only showing top 10 rows\n",
      "\n"
     ]
    }
   ],
   "source": [
    "df_items.show(n=10, truncate=False)"
   ]
  },
  {
   "cell_type": "markdown",
   "id": "sought-style",
   "metadata": {},
   "source": [
    "Check for Null or NaN values"
   ]
  },
  {
   "cell_type": "code",
   "execution_count": 10,
   "id": "rotary-weapon",
   "metadata": {
    "scrolled": false
   },
   "outputs": [
    {
     "name": "stdout",
     "output_type": "stream",
     "text": [
      "+--------+----+------+---------+\n",
      "|Reviewer|Item|Rating|Timestamp|\n",
      "+--------+----+------+---------+\n",
      "|       0|   0|     0|        0|\n",
      "+--------+----+------+---------+\n",
      "\n"
     ]
    }
   ],
   "source": [
    "df_items.select([count(when(isnan(c) | col(c).isNull(), c)).alias(c) for c in df_items.columns]).show()"
   ]
  },
  {
   "cell_type": "markdown",
   "id": "registered-citizen",
   "metadata": {},
   "source": [
    "Since there are no Null or NaN values we can safely convert \"Rating\" column to an Integer since Item ratings can only be natural numbers ranging from 1 to 5"
   ]
  },
  {
   "cell_type": "code",
   "execution_count": 11,
   "id": "minus-somalia",
   "metadata": {},
   "outputs": [],
   "source": [
    "df_items = df_items.withColumn(\"Rating\", df_items[\"Rating\"].cast(IntegerType()))"
   ]
  },
  {
   "cell_type": "markdown",
   "id": "better-programmer",
   "metadata": {},
   "source": [
    "Check if .cast() was successful and look for values out of place"
   ]
  },
  {
   "cell_type": "code",
   "execution_count": 12,
   "id": "latter-chassis",
   "metadata": {
    "scrolled": true
   },
   "outputs": [
    {
     "name": "stdout",
     "output_type": "stream",
     "text": [
      "+-------+------------------+\n",
      "|summary|            Rating|\n",
      "+-------+------------------+\n",
      "|  count|            826344|\n",
      "|   mean| 4.162818390403997|\n",
      "| stddev|1.2613187664122265|\n",
      "|    min|                 1|\n",
      "|    max|                 5|\n",
      "+-------+------------------+\n",
      "\n"
     ]
    }
   ],
   "source": [
    "df_items.describe(\"Rating\").show()"
   ]
  },
  {
   "cell_type": "markdown",
   "id": "extraordinary-crime",
   "metadata": {},
   "source": [
    "## Indexing"
   ]
  },
  {
   "cell_type": "markdown",
   "id": "colonial-pension",
   "metadata": {},
   "source": [
    "Two methods were tried since we were never able to run StringIndexer on more than 10% of the dataset"
   ]
  },
  {
   "cell_type": "markdown",
   "id": "engaging-contributor",
   "metadata": {},
   "source": [
    "### PySpark Pipeline"
   ]
  },
  {
   "cell_type": "code",
   "execution_count": null,
   "id": "mediterranean-encoding",
   "metadata": {},
   "outputs": [],
   "source": [
    "indexers = [StringIndexer(inputCol=\"Reviewer\", outputCol=\"ReviewerID\", handleInvalid=\"skip\") , StringIndexer(inputCol=\"Item\", outputCol=\"ItemID\", handleInvalid=\"skip\")]\n",
    "\n",
    "pipeline = Pipeline(stages=indexers)\n",
    "df_items_indexed = pipeline.fit(df_items).transform(df_items)\n",
    "\n",
    "df_items_indexed.show()"
   ]
  },
  {
   "cell_type": "markdown",
   "id": "stylish-amazon",
   "metadata": {},
   "source": [
    "### One column at a time"
   ]
  },
  {
   "cell_type": "markdown",
   "id": "overall-coach",
   "metadata": {},
   "source": [
    "For some reason that allows StringIndexer to fit a greater sample than Pipeline before eventually Java runs out of memory or KryoSerializer throws a BufferOverflowing error"
   ]
  },
  {
   "cell_type": "code",
   "execution_count": 14,
   "id": "juvenile-bunny",
   "metadata": {},
   "outputs": [
    {
     "name": "stdout",
     "output_type": "stream",
     "text": [
      "+----------+--------+\n",
      "|Item      |ItemID  |\n",
      "+----------+--------+\n",
      "|0143144723|7360.0  |\n",
      "|B005X9LJBM|421419.0|\n",
      "|B007YA15B2|98824.0 |\n",
      "|1497408180|13685.0 |\n",
      "|B0077RUQJ4|436462.0|\n",
      "|B0069G5Z9K|435.0   |\n",
      "|B006Z6E8AG|11977.0 |\n",
      "|B003WETVKG|369271.0|\n",
      "|B001GNCM2O|317348.0|\n",
      "|0062085484|2480.0  |\n",
      "|B00BS85W88|46505.0 |\n",
      "|0890897603|56565.0 |\n",
      "|B001KZM4Y4|8386.0  |\n",
      "|B008OBFL92|45160.0 |\n",
      "|B0097GVJWQ|1396.0  |\n",
      "|B00023B0A4|242814.0|\n",
      "|B0049J4MVQ|379798.0|\n",
      "|B008TLBY16|462272.0|\n",
      "|B0047TNN7M|378830.0|\n",
      "|B0063MI3LC|423825.0|\n",
      "+----------+--------+\n",
      "only showing top 20 rows\n",
      "\n",
      "+--------------+----------+\n",
      "|Reviewer      |ReviewerID|\n",
      "+--------------+----------+\n",
      "|A1NHVWB3UKEBNN|22659.0   |\n",
      "|A4ZKY17VUBPZH |576158.0  |\n",
      "|A1FTQLG098SXR9|137929.0  |\n",
      "|A3QLVWSY7DFVJ4|543543.0  |\n",
      "|AM8D6ZN0IRO8K |661154.0  |\n",
      "|A1CULHD7XSO6AZ|19190.0   |\n",
      "|A12JBHOSYHW03 |72939.0   |\n",
      "|A2F7F1VJZTZF0P|31688.0   |\n",
      "|A2RLLV430OWYJC|372323.0  |\n",
      "|A1PFZN9J7XORUT|23321.0   |\n",
      "|A364ZKFM1VLW8U|40549.0   |\n",
      "|A8IY2M9ZW6VNQ |593544.0  |\n",
      "|A26G1NEO9AK5XK|269023.0  |\n",
      "|A7051ZPEIAVB1 |50230.0   |\n",
      "|A39SEDY9QGYQER|461243.0  |\n",
      "|A3IW36NLIVH16N|505926.0  |\n",
      "|A2HRAFVOO3UGKB|324182.0  |\n",
      "|A27NG66ZS7QUCK|274814.0  |\n",
      "|AT903SH5PTV70 |695521.0  |\n",
      "|A2OK7L5B6JWEF4|357492.0  |\n",
      "+--------------+----------+\n",
      "only showing top 20 rows\n",
      "\n"
     ]
    }
   ],
   "source": [
    "indexerItem = StringIndexer(inputCol=\"Item\", outputCol=\"ItemID\")\n",
    "df_items_index_users = indexerItem.fit(df_items).transform(df_items)\n",
    "df_items_index_users.select(\"Item\",\"ItemID\").show(truncate=False)\n",
    "\n",
    "del df_items\n",
    "\n",
    "indexerUsers = StringIndexer(inputCol=\"Reviewer\", outputCol=\"ReviewerID\")\n",
    "df_items_indexed = indexerUsers.fit(df_items_index_users).transform(df_items_index_users)\n",
    "df_items_indexed.select(\"Reviewer\",\"ReviewerID\").show(truncate=False)\n",
    "\n",
    "del df_items_index_users"
   ]
  },
  {
   "cell_type": "markdown",
   "id": "aggressive-blank",
   "metadata": {},
   "source": [
    "## Cleaning"
   ]
  },
  {
   "cell_type": "markdown",
   "id": "static-scholar",
   "metadata": {},
   "source": [
    "Double check schema"
   ]
  },
  {
   "cell_type": "code",
   "execution_count": 15,
   "id": "middle-miami",
   "metadata": {
    "scrolled": true
   },
   "outputs": [
    {
     "name": "stdout",
     "output_type": "stream",
     "text": [
      "root\n",
      " |-- Reviewer: string (nullable = true)\n",
      " |-- Item: string (nullable = true)\n",
      " |-- Rating: integer (nullable = true)\n",
      " |-- Timestamp: integer (nullable = true)\n",
      " |-- ItemID: double (nullable = false)\n",
      " |-- ReviewerID: double (nullable = false)\n",
      "\n"
     ]
    }
   ],
   "source": [
    "df_items_indexed.printSchema()"
   ]
  },
  {
   "cell_type": "markdown",
   "id": "chronic-leave",
   "metadata": {},
   "source": [
    "Drop \"TimeStamp\" column since we are not going to use it"
   ]
  },
  {
   "cell_type": "code",
   "execution_count": 16,
   "id": "environmental-financing",
   "metadata": {},
   "outputs": [],
   "source": [
    "df_items_indexed = df_items_indexed.drop(\"TimeStamp\")"
   ]
  },
  {
   "cell_type": "markdown",
   "id": "moderate-filter",
   "metadata": {},
   "source": [
    "## Store data"
   ]
  },
  {
   "cell_type": "markdown",
   "id": "greenhouse-mapping",
   "metadata": {},
   "source": [
    "Display 10 rules to make sure the DataFrame is as we want it"
   ]
  },
  {
   "cell_type": "code",
   "execution_count": 17,
   "id": "assured-fiction",
   "metadata": {},
   "outputs": [
    {
     "name": "stdout",
     "output_type": "stream",
     "text": [
      "+--------------+----------+------+--------+----------+\n",
      "|Reviewer      |Item      |Rating|ItemID  |ReviewerID|\n",
      "+--------------+----------+------+--------+----------+\n",
      "|A1NHVWB3UKEBNN|0143144723|4     |7360.0  |22659.0   |\n",
      "|A4ZKY17VUBPZH |B005X9LJBM|5     |421419.0|576158.0  |\n",
      "|A1FTQLG098SXR9|B007YA15B2|5     |98824.0 |137929.0  |\n",
      "|A3QLVWSY7DFVJ4|1497408180|4     |13685.0 |543543.0  |\n",
      "|AM8D6ZN0IRO8K |B0077RUQJ4|5     |436462.0|661154.0  |\n",
      "|A1CULHD7XSO6AZ|B0069G5Z9K|4     |435.0   |19190.0   |\n",
      "|A12JBHOSYHW03 |B006Z6E8AG|5     |11977.0 |72939.0   |\n",
      "|A2F7F1VJZTZF0P|B003WETVKG|2     |369271.0|31688.0   |\n",
      "|A2RLLV430OWYJC|B001GNCM2O|5     |317348.0|372323.0  |\n",
      "|A1PFZN9J7XORUT|0062085484|3     |2480.0  |23321.0   |\n",
      "+--------------+----------+------+--------+----------+\n",
      "only showing top 10 rows\n",
      "\n"
     ]
    }
   ],
   "source": [
    "df_items_indexed.show(10, truncate=False)"
   ]
  },
  {
   "cell_type": "markdown",
   "id": "alleged-friendship",
   "metadata": {},
   "source": [
    "Save Dataframe do parquet format to use with SparkSQL"
   ]
  },
  {
   "cell_type": "code",
   "execution_count": 18,
   "id": "specified-checkout",
   "metadata": {},
   "outputs": [],
   "source": [
    "output_items = \"data.parquet\"\n",
    "df_items_indexed.write.mode(\"overwrite\").parquet(output_items)"
   ]
  },
  {
   "cell_type": "code",
   "execution_count": 19,
   "id": "driven-cowboy",
   "metadata": {
    "scrolled": true
   },
   "outputs": [],
   "source": [
    "df_items_indexed.write.mode(\"overwrite\").saveAsTable(\"DataTable\")"
   ]
  }
 ],
 "metadata": {
  "kernelspec": {
   "display_name": "PySpark",
   "language": "python",
   "name": "pyspark"
  },
  "language_info": {
   "codemirror_mode": {
    "name": "ipython",
    "version": 3
   },
   "file_extension": ".py",
   "mimetype": "text/x-python",
   "name": "python",
   "nbconvert_exporter": "python",
   "pygments_lexer": "ipython3",
   "version": "3.8.5"
  }
 },
 "nbformat": 4,
 "nbformat_minor": 5
}
