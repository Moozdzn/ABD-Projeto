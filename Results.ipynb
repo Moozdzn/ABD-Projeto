{
 "cells": [
  {
   "cell_type": "code",
   "execution_count": 5,
   "id": "based-marketing",
   "metadata": {},
   "outputs": [],
   "source": [
    "import os\n",
    "import sys\n",
    "import numpy as np\n",
    "import scipy as sc\n",
    "import pandas as pd\n",
    "import seaborn as sns\n",
    "import matplotlib.pyplot as plt\n",
    "import warnings\n",
    "warnings.filterwarnings(\"ignore\")"
   ]
  },
  {
   "cell_type": "code",
   "execution_count": 6,
   "id": "inclusive-wilderness",
   "metadata": {},
   "outputs": [],
   "source": [
    "from pyspark.sql import SparkSession, Row\n",
    "from pyspark.sql.functions import *\n",
    "from pyspark.sql.types import *"
   ]
  },
  {
   "cell_type": "code",
   "execution_count": 7,
   "id": "liberal-symbol",
   "metadata": {},
   "outputs": [],
   "source": [
    "MAX_MEMORY = \"10g\"\n",
    "\n",
    "spark = SparkSession \\\n",
    "    .builder \\\n",
    "    .appName(\"Foo\") \\\n",
    "    .config(\"spark.executor.memory\", MAX_MEMORY) \\\n",
    "    .config(\"spark.driver.memory\", MAX_MEMORY) \\\n",
    "    .getOrCreate()"
   ]
  },
  {
   "cell_type": "code",
   "execution_count": 8,
   "id": "medieval-northwest",
   "metadata": {},
   "outputs": [],
   "source": [
    "user = 540\n",
    "book = 26"
   ]
  },
  {
   "cell_type": "code",
   "execution_count": 9,
   "id": "announced-brand",
   "metadata": {},
   "outputs": [
    {
     "name": "stdout",
     "output_type": "stream",
     "text": [
      "[Database(name='default', description='Default Hive database', locationUri='file:/home/big/Desktop/Aulas/Projeto/spark-warehouse')]\n"
     ]
    }
   ],
   "source": [
    "print(spark.catalog.listDatabases())"
   ]
  },
  {
   "cell_type": "code",
   "execution_count": 10,
   "id": "egyptian-possible",
   "metadata": {},
   "outputs": [
    {
     "data": {
      "text/plain": [
       "[Table(name='itemsrecommendationtable', database='default', description=None, tableType='MANAGED', isTemporary=False),\n",
       " Table(name='itemstable', database='default', description=None, tableType='MANAGED', isTemporary=False),\n",
       " Table(name='userrecommendationtable', database='default', description=None, tableType='MANAGED', isTemporary=False)]"
      ]
     },
     "execution_count": 10,
     "metadata": {},
     "output_type": "execute_result"
    }
   ],
   "source": [
    "spark.catalog.listTables(dbName=\"default\")"
   ]
  },
  {
   "cell_type": "code",
   "execution_count": 11,
   "id": "underlying-trinity",
   "metadata": {},
   "outputs": [
    {
     "data": {
      "text/plain": [
       "DataFrame[]"
      ]
     },
     "execution_count": 11,
     "metadata": {},
     "output_type": "execute_result"
    }
   ],
   "source": [
    "spark.sql(\"USE default\")"
   ]
  },
  {
   "cell_type": "code",
   "execution_count": 12,
   "id": "sophisticated-score",
   "metadata": {},
   "outputs": [
    {
     "data": {
      "text/plain": [
       "[Column(name='_c2', description=None, dataType='double', nullable=True, isPartition=False, isBucket=False),\n",
       " Column(name='_c3', description=None, dataType='int', nullable=True, isPartition=False, isBucket=False),\n",
       " Column(name='Item_Index', description=None, dataType='double', nullable=True, isPartition=False, isBucket=False),\n",
       " Column(name='User_Index', description=None, dataType='double', nullable=True, isPartition=False, isBucket=False)]"
      ]
     },
     "execution_count": 12,
     "metadata": {},
     "output_type": "execute_result"
    }
   ],
   "source": [
    "spark.catalog.listColumns(\"itemstable\")"
   ]
  },
  {
   "cell_type": "code",
   "execution_count": 13,
   "id": "expired-affiliation",
   "metadata": {},
   "outputs": [
    {
     "name": "stdout",
     "output_type": "stream",
     "text": [
      "+---+----------+----------+----------+\n",
      "|_c2|_c3       |Item_Index|User_Index|\n",
      "+---+----------+----------+----------+\n",
      "|5.0|1362268800|3562.0    |9001.0    |\n",
      "|4.0|1389398400|12294.0   |1960.0    |\n",
      "|4.0|1362960000|1132.0    |185.0     |\n",
      "|5.0|1405468800|14353.0   |9987.0    |\n",
      "|5.0|1398470400|6896.0    |6297.0    |\n",
      "|5.0|1271116800|2943.0    |3256.0    |\n",
      "|5.0|1363392000|813.0     |14429.0   |\n",
      "|5.0|1380067200|2351.0    |11613.0   |\n",
      "|3.0|1385683200|320.0     |3944.0    |\n",
      "|3.0|1246406400|6591.0    |1345.0    |\n",
      "+---+----------+----------+----------+\n",
      "only showing top 10 rows\n",
      "\n"
     ]
    }
   ],
   "source": [
    "spark.sql(\"SELECT * FROM itemstable\").show(10,truncate=False)"
   ]
  },
  {
   "cell_type": "code",
   "execution_count": 14,
   "id": "suburban-slide",
   "metadata": {},
   "outputs": [
    {
     "name": "stdout",
     "output_type": "stream",
     "text": [
      "+----------+-----------------------------------------------------------------------------------------+\n",
      "|User_Index|recommendations                                                                          |\n",
      "+----------+-----------------------------------------------------------------------------------------+\n",
      "|35        |[[56, 6.3561664], [113, 5.561143], [5566, 4.997807], [274, 4.8611126], [256, 4.5964136]] |\n",
      "|1815      |[[279, 6.3834496], [27, 6.0663486], [553, 4.997807], [81, 4.7624025], [64, 4.7132783]]   |\n",
      "|2445      |[[2, 6.369457], [394, 6.2148685], [109, 5.0039024], [75, 4.802309], [325, 4.7997465]]    |\n",
      "|2915      |[[74, 5.0404563], [415, 4.4797378], [81, 4.471573], [205, 4.4445376], [10518, 4.4242463]]|\n",
      "|3065      |[[1, 9.549492], [33, 6.168268], [49, 6.001958], [41, 5.056066], [131, 4.9294915]]        |\n",
      "|3545      |[[83, 5.898951], [383, 5.130368], [12777, 4.9978075], [82, 4.939535], [48, 4.775062]]    |\n",
      "|3875      |[[207, 5.752092], [61, 5.512059], [15, 5.2211194], [15244, 4.997807], [107, 4.748157]]   |\n",
      "|6285      |[[72, 6.143055], [415, 6.027288], [169, 5.230952], [385, 5.052314], [404, 5.023234]]     |\n",
      "|8855      |[[183, 5.708554], [385, 5.559359], [92, 5.537055], [72, 5.2778616], [15334, 4.997807]]   |\n",
      "|9987      |[[355, 5.485469], [210, 5.4060545], [83, 5.0667887], [14353, 4.997807], [352, 4.7737074]]|\n",
      "+----------+-----------------------------------------------------------------------------------------+\n",
      "only showing top 10 rows\n",
      "\n"
     ]
    }
   ],
   "source": [
    "spark.sql(\"SELECT * FROM userrecommendationtable\").show(10,truncate=False)"
   ]
  },
  {
   "cell_type": "code",
   "execution_count": 15,
   "id": "external-worcester",
   "metadata": {},
   "outputs": [
    {
     "name": "stdout",
     "output_type": "stream",
     "text": [
      "+----------+----------------------------------------------------------------------------------------------------+\n",
      "|Item_Index|recommendations                                                                                     |\n",
      "+----------+----------------------------------------------------------------------------------------------------+\n",
      "|35        |[[5401, 6.4186707], [13133, 6.3704214], [4038, 6.345374], [3754, 6.12169], [5616, 5.9706116]]       |\n",
      "|503       |[[2620, 4.997807], [15662, 4.546013], [8390, 4.443827], [14271, 4.3867855], [4499, 4.1742606]]      |\n",
      "|583       |[[6732, 0.9899167], [3782, 0.91787565], [10121, 0.9102786], [13268, 0.9035039], [11325, 0.89800096]]|\n",
      "|610       |[[707, 4.997807], [1182, 4.5763116], [11624, 4.378967], [13517, 4.3635087], [3669, 4.2734566]]      |\n",
      "|614       |[[9788, 4.997807], [13850, 4.4660597], [1177, 4.3294864], [478, 4.244074], [14427, 4.234099]]       |\n",
      "|761       |[[6279, 4.997807], [4632, 4.493599], [13110, 4.3835387], [4777, 4.338821], [14823, 4.326949]]       |\n",
      "|880       |[[13897, 3.9972644], [7549, 3.4786716], [12593, 3.4712884], [3419, 3.464298], [3953, 3.4526703]]    |\n",
      "|1072      |[[4052, 2.9963684], [7892, 2.7443583], [6705, 2.714374], [6978, 2.635676], [13313, 2.5692208]]      |\n",
      "|1369      |[[12393, 4.9978075], [7933, 4.5491834], [9712, 4.4000874], [6880, 4.322855], [12534, 4.268809]]     |\n",
      "|1519      |[[4789, 4.997807], [15323, 4.537575], [798, 4.4889483], [2155, 4.3502097], [14824, 4.3199034]]      |\n",
      "+----------+----------------------------------------------------------------------------------------------------+\n",
      "only showing top 10 rows\n",
      "\n"
     ]
    }
   ],
   "source": [
    "spark.sql(\"SELECT * FROM itemsrecommendationtable\").show(10,truncate=False)"
   ]
  },
  {
   "cell_type": "code",
   "execution_count": null,
   "id": "liable-secret",
   "metadata": {},
   "outputs": [],
   "source": []
  }
 ],
 "metadata": {
  "kernelspec": {
   "display_name": "PySpark",
   "language": "python",
   "name": "pyspark"
  },
  "language_info": {
   "codemirror_mode": {
    "name": "ipython",
    "version": 3
   },
   "file_extension": ".py",
   "mimetype": "text/x-python",
   "name": "python",
   "nbconvert_exporter": "python",
   "pygments_lexer": "ipython3",
   "version": "3.8.5"
  }
 },
 "nbformat": 4,
 "nbformat_minor": 5
}
