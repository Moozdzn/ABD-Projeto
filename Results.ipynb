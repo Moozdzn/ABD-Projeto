{
 "cells": [
  {
   "cell_type": "markdown",
   "id": "checked-sensitivity",
   "metadata": {},
   "source": [
    "# Results"
   ]
  },
  {
   "cell_type": "markdown",
   "id": "enormous-professional",
   "metadata": {},
   "source": [
    "## Necessary imports"
   ]
  },
  {
   "cell_type": "code",
   "execution_count": 1,
   "id": "based-marketing",
   "metadata": {},
   "outputs": [],
   "source": [
    "import os\n",
    "import sys\n",
    "import warnings\n",
    "warnings.filterwarnings(\"ignore\")"
   ]
  },
  {
   "cell_type": "code",
   "execution_count": 2,
   "id": "inclusive-wilderness",
   "metadata": {},
   "outputs": [],
   "source": [
    "from pyspark.sql.functions import *\n",
    "from pyspark.sql.types import *"
   ]
  },
  {
   "cell_type": "markdown",
   "id": "worthy-burden",
   "metadata": {},
   "source": [
    "## Check Database, Tables and table columns"
   ]
  },
  {
   "cell_type": "code",
   "execution_count": 33,
   "id": "announced-brand",
   "metadata": {},
   "outputs": [
    {
     "data": {
      "text/plain": [
       "[Database(name='default', description='Default Hive database', locationUri='file:/home/big/Desktop/Aulas/Projeto/spark-warehouse')]"
      ]
     },
     "execution_count": 33,
     "metadata": {},
     "output_type": "execute_result"
    }
   ],
   "source": [
    "spark.catalog.listDatabases()"
   ]
  },
  {
   "cell_type": "code",
   "execution_count": 4,
   "id": "egyptian-possible",
   "metadata": {},
   "outputs": [
    {
     "data": {
      "text/plain": [
       "[Table(name='datatable', database='default', description=None, tableType='MANAGED', isTemporary=False),\n",
       " Table(name='itemsrecommendationtable', database='default', description=None, tableType='MANAGED', isTemporary=False),\n",
       " Table(name='itemstable', database='default', description=None, tableType='MANAGED', isTemporary=False),\n",
       " Table(name='userrecommendationtable', database='default', description=None, tableType='MANAGED', isTemporary=False)]"
      ]
     },
     "execution_count": 4,
     "metadata": {},
     "output_type": "execute_result"
    }
   ],
   "source": [
    "spark.catalog.listTables(dbName=\"default\")"
   ]
  },
  {
   "cell_type": "code",
   "execution_count": 5,
   "id": "underlying-trinity",
   "metadata": {},
   "outputs": [
    {
     "data": {
      "text/plain": [
       "DataFrame[]"
      ]
     },
     "execution_count": 5,
     "metadata": {},
     "output_type": "execute_result"
    }
   ],
   "source": [
    "spark.sql(\"USE default\")"
   ]
  },
  {
   "cell_type": "code",
   "execution_count": 6,
   "id": "sophisticated-score",
   "metadata": {},
   "outputs": [
    {
     "data": {
      "text/plain": [
       "[Column(name='Reviewer', description=None, dataType='string', nullable=True, isPartition=False, isBucket=False),\n",
       " Column(name='Item', description=None, dataType='string', nullable=True, isPartition=False, isBucket=False),\n",
       " Column(name='Rating', description=None, dataType='double', nullable=True, isPartition=False, isBucket=False),\n",
       " Column(name='ReviewerID', description=None, dataType='double', nullable=True, isPartition=False, isBucket=False),\n",
       " Column(name='ItemID', description=None, dataType='double', nullable=True, isPartition=False, isBucket=False)]"
      ]
     },
     "execution_count": 6,
     "metadata": {},
     "output_type": "execute_result"
    }
   ],
   "source": [
    "spark.catalog.listColumns(\"datatable\")"
   ]
  },
  {
   "cell_type": "code",
   "execution_count": 7,
   "id": "expired-affiliation",
   "metadata": {},
   "outputs": [
    {
     "name": "stdout",
     "output_type": "stream",
     "text": [
      "+--------------+----------+------+----------+-------+\n",
      "|Reviewer      |Item      |Rating|ReviewerID|ItemID |\n",
      "+--------------+----------+------+----------+-------+\n",
      "|A1BU91W99GF2RW|B00C776C3I|4.0   |8439.0    |67844.0|\n",
      "|A3IDGI3N7ZF054|B00C77M5RK|5.0   |54329.0   |67845.0|\n",
      "|A1YWK7JOEG5H96|B00C78F3FU|4.0   |21901.0   |67846.0|\n",
      "|A1Z3ZBLQELV9Z8|B00C78G3G8|5.0   |22029.0   |67847.0|\n",
      "|AXQYR6U66GR54 |B00C78K8NW|4.0   |79886.0   |67848.0|\n",
      "|A2MFTD1SV25S9V|B00C78W0ME|5.0   |35581.0   |67849.0|\n",
      "|A3E3HHHYYX4AMS|B00C7A8WWO|5.0   |51845.0   |67850.0|\n",
      "|A1L86G7UESAN0S|B00C7ACXJW|5.0   |13918.0   |67851.0|\n",
      "|A1EX0MR65MFI8C|B00C7BQSUQ|5.0   |10231.0   |67852.0|\n",
      "|A33QAS2S0I9WDZ|B00C7BZYRO|1.0   |45780.0   |67853.0|\n",
      "+--------------+----------+------+----------+-------+\n",
      "only showing top 10 rows\n",
      "\n"
     ]
    }
   ],
   "source": [
    "spark.sql(\"SELECT * FROM datatable\").show(10,truncate=False)"
   ]
  },
  {
   "cell_type": "markdown",
   "id": "meaningful-plasma",
   "metadata": {},
   "source": [
    "## Show recommendations"
   ]
  },
  {
   "cell_type": "markdown",
   "id": "periodic-basis",
   "metadata": {},
   "source": [
    "#### For all users and for all items"
   ]
  },
  {
   "cell_type": "code",
   "execution_count": 8,
   "id": "suburban-slide",
   "metadata": {
    "scrolled": true
   },
   "outputs": [
    {
     "name": "stdout",
     "output_type": "stream",
     "text": [
      "+----------+-----------------------------------------------------------------------------------------+\n",
      "|ReviewerID|recommendations                                                                          |\n",
      "+----------+-----------------------------------------------------------------------------------------+\n",
      "|65        |[[325, 8.40369], [234, 8.390948], [1192, 7.315639], [26, 6.9698887], [141, 6.85389]]     |\n",
      "|458       |[[99, 8.441162], [36, 7.518686], [181, 7.00895], [566, 6.839488], [1325, 6.703174]]      |\n",
      "|879       |[[63, 10.026212], [78, 8.0875845], [96, 7.506577], [890, 7.142868], [1965, 6.871914]]    |\n",
      "|883       |[[135, 8.627517], [240, 7.912772], [193, 7.7639256], [681, 7.35819], [118, 7.3522406]]   |\n",
      "|1223      |[[598, 8.864721], [1205, 8.101884], [15, 7.980553], [75, 7.199368], [101, 6.756503]]     |\n",
      "|1977      |[[92, 5.845594], [571, 5.1056643], [39, 5.0836368], [2215, 4.9989033], [393, 4.9713798]] |\n",
      "|2096      |[[623, 8.079464], [515, 7.7680893], [427, 7.344784], [41, 7.255584], [5423, 7.2529044]]  |\n",
      "|2249      |[[312, 8.219269], [201, 7.999425], [140, 7.7834716], [182, 7.365144], [78, 7.271217]]    |\n",
      "|2392      |[[137, 8.511448], [206, 8.308786], [960, 7.897609], [318, 7.8964863], [88, 7.619376]]    |\n",
      "|2622      |[[193, 9.38473], [135, 9.259206], [1183, 7.9027576], [2009, 7.8373365], [512, 7.7253423]]|\n",
      "+----------+-----------------------------------------------------------------------------------------+\n",
      "only showing top 10 rows\n",
      "\n"
     ]
    }
   ],
   "source": [
    "spark.sql(\"SELECT * FROM userrecommendationtable\").show(10,truncate=False)"
   ]
  },
  {
   "cell_type": "code",
   "execution_count": 9,
   "id": "external-worcester",
   "metadata": {},
   "outputs": [
    {
     "name": "stdout",
     "output_type": "stream",
     "text": [
      "+------+--------------------------------------------------------------------------------------------------+\n",
      "|ItemID|recommendations                                                                                   |\n",
      "+------+--------------------------------------------------------------------------------------------------+\n",
      "|65    |[[62650, 9.562832], [23183, 9.4881935], [26528, 9.393593], [75187, 9.239661], [42, 9.111745]]     |\n",
      "|458   |[[3151, 8.219126], [75092, 8.192369], [69239, 8.181688], [49058, 8.134698], [68769, 8.115892]]    |\n",
      "|879   |[[41002, 6.4863915], [62791, 6.484882], [61542, 6.378982], [14904, 6.3169246], [37309, 6.2771187]]|\n",
      "|883   |[[35543, 4.997857], [71591, 4.6043515], [40283, 4.573918], [53758, 4.5631623], [80912, 4.516834]] |\n",
      "|1223  |[[891, 7.059295], [52290, 6.862376], [26824, 6.827621], [4439, 6.825762], [45409, 6.8136907]]     |\n",
      "|1977  |[[28297, 3.9972646], [58198, 3.7235363], [73892, 3.7229476], [21758, 3.665168], [2506, 3.6521032]]|\n",
      "|2096  |[[35286, 5.289352], [46272, 5.261717], [18103, 5.2355347], [2383, 5.088205], [62599, 5.0731187]]  |\n",
      "|2249  |[[72028, 6.44406], [72369, 6.2929626], [15676, 6.1743717], [74956, 6.1531844], [41985, 6.1291714]]|\n",
      "|2392  |[[56132, 6.051195], [36735, 6.023626], [71591, 6.010252], [9820, 5.9138107], [77385, 5.892443]]   |\n",
      "|2622  |[[71496, 5.1353626], [22848, 4.99819], [36516, 4.979249], [38082, 4.9284444], [3037, 4.9046664]]  |\n",
      "+------+--------------------------------------------------------------------------------------------------+\n",
      "only showing top 10 rows\n",
      "\n"
     ]
    }
   ],
   "source": [
    "spark.sql(\"SELECT * FROM itemsrecommendationtable\").show(10,truncate=False)"
   ]
  },
  {
   "cell_type": "markdown",
   "id": "crazy-madison",
   "metadata": {},
   "source": [
    "#### For a single user and a single item"
   ]
  },
  {
   "cell_type": "code",
   "execution_count": 10,
   "id": "liable-secret",
   "metadata": {},
   "outputs": [],
   "source": [
    "user = 54329\n",
    "item = 67844"
   ]
  },
  {
   "cell_type": "code",
   "execution_count": 31,
   "id": "electoral-reggae",
   "metadata": {
    "scrolled": true
   },
   "outputs": [
    {
     "name": "stdout",
     "output_type": "stream",
     "text": [
      "+----------+--------------------+\n",
      "|      Item|     recommendations|\n",
      "+----------+--------------------+\n",
      "|B008JGSM6G|[[76237, 9.355507...|\n",
      "+----------+--------------------+\n",
      "\n"
     ]
    }
   ],
   "source": [
    "spark.sql(\"SELECT datatable.Item, itemsrecommendationtable.recommendations FROM itemsrecommendationtable INNER JOIN datatable ON itemsrecommendationtable.ItemID = datatable.ItemID WHERE datatable.ItemID =\"+str(item)+\" LIMIT 1\").show(1)"
   ]
  },
  {
   "cell_type": "code",
   "execution_count": 32,
   "id": "white-stability",
   "metadata": {},
   "outputs": [
    {
     "name": "stdout",
     "output_type": "stream",
     "text": [
      "+--------------+--------------------+\n",
      "|      Reviewer|     recommendations|\n",
      "+--------------+--------------------+\n",
      "|A1Y5IF71BX7URN|[[118, 9.143514],...|\n",
      "+--------------+--------------------+\n",
      "\n"
     ]
    }
   ],
   "source": [
    "spark.sql(\"SELECT datatable.Reviewer, userrecommendationtable.recommendations FROM userrecommendationtable INNER JOIN datatable ON userrecommendationtable.ReviewerID = datatable.ReviewerID WHERE datatable.ReviewerID =\"+str(user)+\" LIMIT 1\").show(1)"
   ]
  }
 ],
 "metadata": {
  "kernelspec": {
   "display_name": "PySpark",
   "language": "python",
   "name": "pyspark"
  },
  "language_info": {
   "codemirror_mode": {
    "name": "ipython",
    "version": 3
   },
   "file_extension": ".py",
   "mimetype": "text/x-python",
   "name": "python",
   "nbconvert_exporter": "python",
   "pygments_lexer": "ipython3",
   "version": "3.8.5"
  }
 },
 "nbformat": 4,
 "nbformat_minor": 5
}
