{
 "cells": [
  {
   "cell_type": "code",
   "execution_count": 4,
   "id": "minimal-queue",
   "metadata": {},
   "outputs": [],
   "source": [
    "import os\n",
    "import sys\n",
    "import numpy as np\n",
    "import scipy as sc\n",
    "import pandas as pd\n",
    "import seaborn as sns\n",
    "import matplotlib.pyplot as plt\n",
    "import warnings\n",
    "warnings.filterwarnings(\"ignore\")"
   ]
  },
  {
   "cell_type": "code",
   "execution_count": 8,
   "id": "coupled-intellectual",
   "metadata": {},
   "outputs": [],
   "source": [
    "from pyspark.sql import SparkSession, Row\n",
    "from pyspark.sql.functions import *\n",
    "from pyspark.sql.types import *\n",
    "\n",
    "from pyspark.ml.feature import StringIndexer\n",
    "from pyspark.ml.recommendation import ALS\n",
    "from pyspark.ml.evaluation import RegressionEvaluator"
   ]
  },
  {
   "cell_type": "code",
   "execution_count": 11,
   "id": "abroad-louis",
   "metadata": {},
   "outputs": [
    {
     "name": "stdout",
     "output_type": "stream",
     "text": [
      "/home/big/Desktop/Aulas/Projeto\n",
      "total 56\n",
      "drwxrwxr-x 3 big big  4096 mai 17 15:39 .\n",
      "drwxrwxr-x 7 big big  4096 mai 17 15:29 ..\n",
      "drwxrwxr-x 2 big big  4096 mai 17 15:31 .ipynb_checkpoints\n",
      "-rw-rw-r-- 1 big big 40663 mai 17 15:30 item_dedup.csv\n",
      "-rw-rw-r-- 1 big big  2318 mai 17 15:39 Untitled.ipynb\n",
      "A3AF8FFZAZYNE5,0000000078,5.0,1092182400\n",
      "AH2L9G3DQHHAJ,0000000116,4.0,1019865600\n",
      "A2IIIDRK3PRRZY,0000000116,1.0,1395619200\n",
      "A17K364R0ETIJJ,0001064487,5.0,1355961600\n",
      "A1V9HZP9ONKV78,0001064487,5.0,1367280000\n",
      "A53ZWHWGLPZQV,0001072986,5.0,1376611200\n"
     ]
    }
   ],
   "source": [
    "! pwd\n",
    "! ls -la\n",
    "! head -n 3 item_dedup.csv\n",
    "! tail -n 3 item_dedup.csv"
   ]
  },
  {
   "cell_type": "code",
   "execution_count": 17,
   "id": "graduate-empty",
   "metadata": {},
   "outputs": [],
   "source": [
    "df_items = spark.read.csv(\"item_dedup.csv\", header=False, inferSchema=True, sep=\",\") "
   ]
  },
  {
   "cell_type": "code",
   "execution_count": 18,
   "id": "going-jesus",
   "metadata": {},
   "outputs": [
    {
     "name": "stdout",
     "output_type": "stream",
     "text": [
      "root\n",
      " |-- _c0: string (nullable = true)\n",
      " |-- _c1: string (nullable = true)\n",
      " |-- _c2: double (nullable = true)\n",
      " |-- _c3: integer (nullable = true)\n",
      "\n"
     ]
    },
    {
     "data": {
      "text/plain": [
       "1000"
      ]
     },
     "execution_count": 18,
     "metadata": {},
     "output_type": "execute_result"
    }
   ],
   "source": [
    "df_items.printSchema()\n",
    "df_items.count()"
   ]
  },
  {
   "cell_type": "code",
   "execution_count": 19,
   "id": "fresh-astrology",
   "metadata": {},
   "outputs": [
    {
     "name": "stdout",
     "output_type": "stream",
     "text": [
      "+--------------+----------+---+----------+\n",
      "|_c0           |_c1       |_c2|_c3       |\n",
      "+--------------+----------+---+----------+\n",
      "|A3AF8FFZAZYNE5|0000000078|5.0|1092182400|\n",
      "|AH2L9G3DQHHAJ |0000000116|4.0|1019865600|\n",
      "|A2IIIDRK3PRRZY|0000000116|1.0|1395619200|\n",
      "|A1TADCM7YWPQ8M|0000000868|4.0|1031702400|\n",
      "|AWGH7V0BDOJKB |0000013714|4.0|1383177600|\n",
      "|A3UTQPQPM4TQO0|0000013714|5.0|1374883200|\n",
      "|A8ZS0I5L5V31B |0000013714|5.0|1393632000|\n",
      "|ACNGUPJ3A3TM9 |0000013714|4.0|1386028800|\n",
      "|A3BED5QFJWK88M|0000013714|4.0|1350345600|\n",
      "|A2SUAM1J3GNN3B|0000013714|5.0|1252800000|\n",
      "|APOZ15IEYQRRR |0000013714|5.0|1362787200|\n",
      "|AYEDW3BFK53XK |0000013714|5.0|1325462400|\n",
      "|A1KLCGLCXYP1U1|0000013714|3.0|1376092800|\n",
      "|A37W6POFWIVG13|0000013714|5.0|1316131200|\n",
      "|A2EIPZNHAEXZHJ|0000013714|4.0|1325030400|\n",
      "|A1VAFVJFT58YI3|0000013714|5.0|1384300800|\n",
      "|A9KTKY6BUR8U6 |0000013714|1.0|1357516800|\n",
      "|A2742OG8PK8KU6|0000013714|5.0|1358380800|\n",
      "|A38AAPXSJN4C5G|0000015393|4.0|1239494400|\n",
      "|A14A5Q8VJK5NLR|0000029831|4.0|1393286400|\n",
      "|A3W2PX96K1BA3M|0000029831|5.0|1393200000|\n",
      "|A2GKR2Q7MD8DG4|0000029831|5.0|1393286400|\n",
      "|A1MC4E00RO5E9T|0000029831|5.0|1393200000|\n",
      "|A23PISU0ZLW71C|0000029831|5.0|1393200000|\n",
      "|A3PMSRCL80KSA1|0000031852|4.0|1388275200|\n",
      "|A1SNLWGLFXD70K|0000031852|4.0|1392940800|\n",
      "|A1KJ4CVG87QW09|0000031852|4.0|1389657600|\n",
      "|AA9ITO6ZLZW6  |0000031852|5.0|1399507200|\n",
      "|APJ5ULJ1RMZ4  |0000031852|1.0|1398556800|\n",
      "|A2PAVURT4NOHE1|0000031852|5.0|1388361600|\n",
      "|A3URQ0LXLV46E9|0000031852|4.0|1400544000|\n",
      "|A3BTRFFOR2MF91|0000031860|2.0|1391817600|\n",
      "|A2XVJBSRI3SWDI|0000031887|5.0|1383523200|\n",
      "|A2G0LNLN79Q6HR|0000031887|4.0|1337990400|\n",
      "|A2R3K1KX09QBYP|0000031887|2.0|1361059200|\n",
      "|A19PBP93OF896 |0000031887|1.0|1363824000|\n",
      "|A1P0IHU93EF9ZK|0000031887|4.0|1390435200|\n",
      "|A3Q6CTO56DJ8UZ|0000031887|4.0|1268697600|\n",
      "|A1KLRMWW2FWPL4|0000031887|5.0|1297468800|\n",
      "|A1GQPAM8Y45QN7|0000031887|5.0|1356480000|\n",
      "|A2G5TCU2WDFZ65|0000031887|5.0|1358553600|\n",
      "|AEAN37KUOYSX4 |0000031887|5.0|1371859200|\n",
      "|A1MCJONUQ78L9T|0000031887|5.0|1402876800|\n",
      "|A2QEODSEIT1ME2|0000031887|5.0|1362355200|\n",
      "|A2PSIVW9I3TGHD|0000031887|4.0|1386633600|\n",
      "|A3CHBY0CB0O7PP|0000031887|5.0|1392681600|\n",
      "|AAE8WBNKHQPL5 |0000031887|5.0|1354752000|\n",
      "|A1Z4XQ937SMPO3|0000031887|5.0|1353456000|\n",
      "|A2F9MVWWC0IZYW|0000031887|4.0|1382572800|\n",
      "|AZMKXP68HZ4CN |0000031887|5.0|1377302400|\n",
      "|AV056ETQ5RXLN |0000031887|1.0|1397692800|\n",
      "|A5GPS8FCXTPPI |0000031887|3.0|1356652800|\n",
      "|AM1CYMR007O6H |0000031887|5.0|1389744000|\n",
      "|A25G580SJ513IC|0000031887|5.0|1387929600|\n",
      "|A1MYJDE1JEKLHX|0000031887|4.0|1351036800|\n",
      "|A1WAAEP1EBQ3S4|0000031887|3.0|1359158400|\n",
      "|A3H1W0DWLW5DLH|0000031887|5.0|1286668800|\n",
      "|AJ7SZVK2FSZQJ |0000031887|4.0|1380153600|\n",
      "|A17TA3DQZ87RQH|0000031887|5.0|1361059200|\n",
      "|A3QW1I2TL6WBS6|0000031887|5.0|1399680000|\n",
      "|A36QXSHZCUC7VY|0000031887|4.0|1325376000|\n",
      "|AGH2CNG5GFOM  |0000031887|5.0|1381708800|\n",
      "|A2T247H3WD9NS0|0000031887|5.0|1391040000|\n",
      "|A2KSU0OEYSRYNQ|0000031887|4.0|1356048000|\n",
      "|A2TVSGUKDUT8HE|0000031887|5.0|1345507200|\n",
      "|AEIOS4PFEY8B8 |0000031887|3.0|1322265600|\n",
      "|A3S51SY6L4RKHY|0000031887|5.0|1340755200|\n",
      "|A338UR0Q3EG733|0000031887|5.0|1278979200|\n",
      "|A1AXA05K077RK6|0000031887|3.0|1383264000|\n",
      "|A1YJJG9T2P6VNS|0000031887|5.0|1388620800|\n",
      "|A3VV6Q18NFUCSX|0000031887|5.0|1374105600|\n",
      "|AH3F12SYJ693R |0000031887|5.0|1360713600|\n",
      "|ACR9ES55PCMHO |0000031887|5.0|1387584000|\n",
      "|A1D7AK2ZV16V2X|0000031887|4.0|1389571200|\n",
      "|A2RV0NHF7ODWPX|0000031887|4.0|1374451200|\n",
      "|AIYL9P9I7J5TG |0000031887|5.0|1353715200|\n",
      "|A1RLQXYNCMWRWN|0000031887|5.0|1357257600|\n",
      "|A8U3FAMSJVHS5 |0000031887|5.0|1398556800|\n",
      "|A3TUTGXQP1X0SI|0000031887|1.0|1384560000|\n",
      "|AWL1LVO2QI6I2 |0000031887|5.0|1358380800|\n",
      "|A5T4F8B7XF3AU |0000031887|5.0|1389484800|\n",
      "|A2B62F0GQMUVY0|0000031887|2.0|1352764800|\n",
      "|A3F97HTSL814QD|0000031887|1.0|1391731200|\n",
      "|A3GEOILWLK86XM|0000031887|5.0|1394841600|\n",
      "|A27PG9BXVRT7V8|0000031887|5.0|1364428800|\n",
      "|A27UF1MSF3DB2 |0000031887|4.0|1396224000|\n",
      "|A2EKHP38KG3ZV2|0000031887|5.0|1347321600|\n",
      "|A2RAGC7VLO78QG|0000031887|4.0|1353888000|\n",
      "|A154EV8GA9YI2V|0000031887|3.0|1354665600|\n",
      "|APQHMWBFEZF2I |0000031887|5.0|1354492800|\n",
      "|A1YDI7KVXKL5DG|0000031887|5.0|1391299200|\n",
      "|A2EENASQDJAN1N|0000031887|5.0|1388793600|\n",
      "|A12OFS8WQP86O5|0000031887|5.0|1297123200|\n",
      "|A1LFDDL85CKP74|0000031887|1.0|1399939200|\n",
      "|ATDL69N2MREWP |0000031887|3.0|1389052800|\n",
      "|A2TWG16MB2V7VI|0000031887|5.0|1360540800|\n",
      "|A2DMMA8Q16GKM4|0000031887|5.0|1386633600|\n",
      "|A33CIS842YHGDM|0000031887|4.0|1370995200|\n",
      "|AHUNCBKNI8HV8 |0000031887|5.0|1373587200|\n",
      "|A16GFPNVF4Y816|0000031887|5.0|1399075200|\n",
      "+--------------+----------+---+----------+\n",
      "only showing top 100 rows\n",
      "\n"
     ]
    }
   ],
   "source": [
    "df_items.show(100, truncate=False)"
   ]
  },
  {
   "cell_type": "code",
   "execution_count": 20,
   "id": "aggressive-hacker",
   "metadata": {},
   "outputs": [
    {
     "name": "stdout",
     "output_type": "stream",
     "text": [
      "+-------+------------------+\n",
      "|summary|               _c2|\n",
      "+-------+------------------+\n",
      "|  count|              1000|\n",
      "|   mean|             4.438|\n",
      "| stddev|1.1087765263502776|\n",
      "|    min|               1.0|\n",
      "|    max|               5.0|\n",
      "+-------+------------------+\n",
      "\n"
     ]
    }
   ],
   "source": [
    "df_items.describe(\"_c2\").show()"
   ]
  },
  {
   "cell_type": "code",
   "execution_count": 42,
   "id": "russian-delicious",
   "metadata": {},
   "outputs": [
    {
     "name": "stdout",
     "output_type": "stream",
     "text": [
      "+----------+----------+\n",
      "|_c1       |Item-Index|\n",
      "+----------+----------+\n",
      "|0000000078|34.0      |\n",
      "|0000000116|20.0      |\n",
      "|0000000116|20.0      |\n",
      "|0000000868|35.0      |\n",
      "|0000013714|4.0       |\n",
      "|0000013714|4.0       |\n",
      "|0000013714|4.0       |\n",
      "|0000013714|4.0       |\n",
      "|0000013714|4.0       |\n",
      "|0000013714|4.0       |\n",
      "|0000013714|4.0       |\n",
      "|0000013714|4.0       |\n",
      "|0000013714|4.0       |\n",
      "|0000013714|4.0       |\n",
      "|0000013714|4.0       |\n",
      "|0000013714|4.0       |\n",
      "|0000013714|4.0       |\n",
      "|0000013714|4.0       |\n",
      "|0000015393|36.0      |\n",
      "|0000029831|11.0      |\n",
      "+----------+----------+\n",
      "only showing top 20 rows\n",
      "\n",
      "+--------------+----------+\n",
      "|_c0           |User-Index|\n",
      "+--------------+----------+\n",
      "|A3AF8FFZAZYNE5|594.0     |\n",
      "|AH2L9G3DQHHAJ |842.0     |\n",
      "|A2IIIDRK3PRRZY|382.0     |\n",
      "|A1TADCM7YWPQ8M|219.0     |\n",
      "|AWGH7V0BDOJKB |970.0     |\n",
      "|A3UTQPQPM4TQO0|737.0     |\n",
      "|A8ZS0I5L5V31B |779.0     |\n",
      "|ACNGUPJ3A3TM9 |807.0     |\n",
      "|A3BED5QFJWK88M|599.0     |\n",
      "|A2SUAM1J3GNN3B|457.0     |\n",
      "|APOZ15IEYQRRR |921.0     |\n",
      "|AYEDW3BFK53XK |984.0     |\n",
      "|A1KLCGLCXYP1U1|147.0     |\n",
      "|A37W6POFWIVG13|578.0     |\n",
      "|A2EIPZNHAEXZHJ|363.0     |\n",
      "|A1VAFVJFT58YI3|239.0     |\n",
      "|A9KTKY6BUR8U6 |787.0     |\n",
      "|A2742OG8PK8KU6|314.0     |\n",
      "|A38AAPXSJN4C5G|0.0       |\n",
      "|A14A5Q8VJK5NLR|33.0      |\n",
      "+--------------+----------+\n",
      "only showing top 20 rows\n",
      "\n"
     ]
    }
   ],
   "source": [
    "indexerItem = StringIndexer(inputCol=\"_c1\", outputCol=\"Item-Index\")\n",
    "df_items_index_users = indexerItem.fit(df_items).transform(df_items)\n",
    "df_items_index_users.select(\"_c1\",\"Item-Index\").show(truncate=False)\n",
    "#Sera que podia simplesmente levar parse se sao so numeros\n",
    "\n",
    "indexerUsers = StringIndexer(inputCol=\"_c0\", outputCol=\"User-Index\")\n",
    "df_items_indexed = indexer.fit(df_items_index_users).transform(df_items_index_users)\n",
    "df_items_indexed.select(\"_c0\",\"User-Index\").show(truncate=False)\n",
    "#Sera que podia simplesmente levar parse se sao so numeros"
   ]
  },
  {
   "cell_type": "code",
   "execution_count": 44,
   "id": "liberal-force",
   "metadata": {},
   "outputs": [
    {
     "name": "stdout",
     "output_type": "stream",
     "text": [
      "root\n",
      " |-- _c0: string (nullable = true)\n",
      " |-- _c1: string (nullable = true)\n",
      " |-- _c2: double (nullable = true)\n",
      " |-- _c3: integer (nullable = true)\n",
      " |-- Item-Index: double (nullable = false)\n",
      " |-- User-Index: double (nullable = false)\n",
      "\n"
     ]
    }
   ],
   "source": [
    "df_items_indexed.printSchema()"
   ]
  },
  {
   "cell_type": "code",
   "execution_count": 45,
   "id": "homeless-forty",
   "metadata": {},
   "outputs": [],
   "source": [
    "output_items = \"items.parquet\"\n",
    "df_items_indexed.write.mode(\"overwrite\").parquet(output_items)"
   ]
  },
  {
   "cell_type": "code",
   "execution_count": 46,
   "id": "iraqi-municipality",
   "metadata": {},
   "outputs": [],
   "source": [
    "df_items_indexed.write.mode(\"overwrite\").saveAsTable(\"ItemsTable\")"
   ]
  },
  {
   "cell_type": "code",
   "execution_count": 47,
   "id": "isolated-kidney",
   "metadata": {},
   "outputs": [
    {
     "name": "stdout",
     "output_type": "stream",
     "text": [
      "total 92\n",
      "drwxrwxr-x 6 big big  4096 mai 17 16:44 .\n",
      "drwxrwxr-x 7 big big  4096 mai 17 15:29 ..\n",
      "-rw-rw-r-- 1 big big   684 mai 17 16:28 derby.log\n",
      "drwxrwxr-x 2 big big  4096 mai 17 15:31 .ipynb_checkpoints\n",
      "-rw-rw-r-- 1 big big 40663 mai 17 15:30 item_dedup.csv\n",
      "drwxr-xr-x 2 big big  4096 mai 17 16:44 items.parquet\n",
      "drwxrwxr-x 5 big big  4096 mai 17 16:28 metastore_db\n",
      "drwxr-xr-x 3 big big  4096 mai 17 16:44 spark-warehouse\n",
      "-rw-rw-r-- 1 big big 23832 mai 17 16:43 Untitled.ipynb\n",
      "total 12\n",
      "drwxr-xr-x 3 big big 4096 mai 17 16:44 .\n",
      "drwxrwxr-x 6 big big 4096 mai 17 16:44 ..\n",
      "drwxr-xr-x 2 big big 4096 mai 17 16:44 itemstable\n"
     ]
    }
   ],
   "source": [
    "! ls -la\n",
    "! ls -la ./spark-warehouse"
   ]
  },
  {
   "cell_type": "code",
   "execution_count": null,
   "id": "coordinate-dispatch",
   "metadata": {},
   "outputs": [],
   "source": []
  },
  {
   "cell_type": "code",
   "execution_count": 27,
   "id": "irish-truth",
   "metadata": {},
   "outputs": [
    {
     "ename": "NameError",
     "evalue": "name 'df_items_indexed' is not defined",
     "output_type": "error",
     "traceback": [
      "\u001b[0;31m------------------------------------------------------------------------\u001b[0m",
      "\u001b[0;31mNameError\u001b[0m                              Traceback (most recent call last)",
      "\u001b[0;32m<ipython-input-27-63bd9d0b8750>\u001b[0m in \u001b[0;36m<module>\u001b[0;34m\u001b[0m\n\u001b[0;32m----> 1\u001b[0;31m \u001b[0;32mdel\u001b[0m \u001b[0mdf_items_indexed\u001b[0m\u001b[0;34m\u001b[0m\u001b[0;34m\u001b[0m\u001b[0m\n\u001b[0m",
      "\u001b[0;31mNameError\u001b[0m: name 'df_items_indexed' is not defined"
     ]
    }
   ],
   "source": [
    "del df_items_indexed"
   ]
  },
  {
   "cell_type": "code",
   "execution_count": 48,
   "id": "super-rental",
   "metadata": {},
   "outputs": [
    {
     "data": {
      "text/plain": [
       "[838, 162, 1000]"
      ]
     },
     "execution_count": 48,
     "metadata": {},
     "output_type": "execute_result"
    }
   ],
   "source": [
    "dftrain, dftest = df_items_indexed.randomSplit([0.8,0.2], 42)\n",
    "\n",
    "dftrain.cache()\n",
    "\n",
    "[dftrain.count(),dftest.count(),df_items_indexed.count()]"
   ]
  },
  {
   "cell_type": "code",
   "execution_count": 49,
   "id": "metallic-starter",
   "metadata": {},
   "outputs": [
    {
     "name": "stdout",
     "output_type": "stream",
     "text": [
      "root\n",
      " |-- _c0: string (nullable = true)\n",
      " |-- _c1: string (nullable = true)\n",
      " |-- _c2: double (nullable = true)\n",
      " |-- _c3: integer (nullable = true)\n",
      " |-- Item-Index: double (nullable = false)\n",
      " |-- User-Index: double (nullable = false)\n",
      "\n"
     ]
    }
   ],
   "source": [
    "dftrain.printSchema()"
   ]
  },
  {
   "cell_type": "code",
   "execution_count": 50,
   "id": "indian-modification",
   "metadata": {},
   "outputs": [],
   "source": [
    "als = ALS(maxIter=5,\n",
    "          regParam=0.01,\n",
    "          userCol=\"User-Index\",\n",
    "          itemCol=\"Item-Index\",\n",
    "          ratingCol=\"_c2\",\n",
    "          coldStartStrategy=\"drop\")\n",
    "\n",
    "model = als.fit(dftrain)"
   ]
  },
  {
   "cell_type": "code",
   "execution_count": 52,
   "id": "valued-natural",
   "metadata": {},
   "outputs": [
    {
     "name": "stdout",
     "output_type": "stream",
     "text": [
      "Root-mean-square-error = 4.447703003883362\n"
     ]
    }
   ],
   "source": [
    "predictions = model.transform(dftest)\n",
    "evaluator = RegressionEvaluator(metricName=\"rmse\",\n",
    "                               labelCol=\"_c2\",\n",
    "                               predictionCol=\"prediction\")\n",
    "rmse = evaluator.evaluate(predictions)\n",
    "\n",
    "print(\"Root-mean-square-error = \" + str(rmse))"
   ]
  },
  {
   "cell_type": "code",
   "execution_count": 53,
   "id": "increased-reputation",
   "metadata": {},
   "outputs": [],
   "source": [
    "modelpath = \"ALSmodel\"\n",
    "model.write().overwrite().save(modelpath)"
   ]
  },
  {
   "cell_type": "code",
   "execution_count": 54,
   "id": "quality-investigator",
   "metadata": {},
   "outputs": [
    {
     "name": "stdout",
     "output_type": "stream",
     "text": [
      "total 20\r\n",
      "drwxr-xr-x 5 big big 4096 mai 17 16:49 .\r\n",
      "drwxrwxr-x 7 big big 4096 mai 17 16:49 ..\r\n",
      "drwxr-xr-x 2 big big 4096 mai 17 16:49 itemFactors\r\n",
      "drwxr-xr-x 2 big big 4096 mai 17 16:49 metadata\r\n",
      "drwxr-xr-x 2 big big 4096 mai 17 16:49 userFactors\r\n"
     ]
    }
   ],
   "source": [
    "! ls -la ./ALSmodel"
   ]
  },
  {
   "cell_type": "code",
   "execution_count": 60,
   "id": "elect-outside",
   "metadata": {},
   "outputs": [],
   "source": [
    "users = df_items_indexed.select(als.getUserCol()).distinct()\n",
    "items = df_items_indexed.select(als.getItemCol()).distinct()"
   ]
  },
  {
   "cell_type": "code",
   "execution_count": 63,
   "id": "graphic-pavilion",
   "metadata": {},
   "outputs": [
    {
     "name": "stdout",
     "output_type": "stream",
     "text": [
      "+----------+\n",
      "|User-Index|\n",
      "+----------+\n",
      "|     299.0|\n",
      "|     558.0|\n",
      "|     596.0|\n",
      "|     769.0|\n",
      "|     934.0|\n",
      "|     496.0|\n",
      "|     692.0|\n",
      "|     305.0|\n",
      "|     147.0|\n",
      "|     810.0|\n",
      "|     576.0|\n",
      "|     170.0|\n",
      "|     184.0|\n",
      "|     720.0|\n",
      "|     782.0|\n",
      "|     735.0|\n",
      "|     160.0|\n",
      "|     169.0|\n",
      "|     608.0|\n",
      "|     571.0|\n",
      "+----------+\n",
      "only showing top 20 rows\n",
      "\n",
      "+----------+\n",
      "|Item-Index|\n",
      "+----------+\n",
      "|       8.0|\n",
      "|      67.0|\n",
      "|      70.0|\n",
      "|       0.0|\n",
      "|      69.0|\n",
      "|       7.0|\n",
      "|      88.0|\n",
      "|      49.0|\n",
      "|      29.0|\n",
      "|      64.0|\n",
      "|      75.0|\n",
      "|      47.0|\n",
      "|      42.0|\n",
      "|      44.0|\n",
      "|      35.0|\n",
      "|      62.0|\n",
      "|      18.0|\n",
      "|      80.0|\n",
      "|      86.0|\n",
      "|       1.0|\n",
      "+----------+\n",
      "only showing top 20 rows\n",
      "\n"
     ]
    },
    {
     "data": {
      "text/plain": [
       "[994, 92]"
      ]
     },
     "execution_count": 63,
     "metadata": {},
     "output_type": "execute_result"
    }
   ],
   "source": [
    "users.show()\n",
    "items.show()\n",
    "[users.count(),items.count()]"
   ]
  },
  {
   "cell_type": "code",
   "execution_count": 69,
   "id": "cooked-registration",
   "metadata": {},
   "outputs": [],
   "source": [
    "n_topitems = 5\n",
    "user_recs = model.recommendForAllUsers(n_topitems)\n",
    "\n",
    "n_topusers = 5\n",
    "items_recs = model.recommendForAllItems(n_topusers)"
   ]
  },
  {
   "cell_type": "code",
   "execution_count": 70,
   "id": "expected-riding",
   "metadata": {},
   "outputs": [
    {
     "name": "stdout",
     "output_type": "stream",
     "text": [
      "+----------+--------------------+\n",
      "|User-Index|     recommendations|\n",
      "+----------+--------------------+\n",
      "|       471|[[3, 7.2842765], ...|\n",
      "|       463|[[25, 4.99923], [...|\n",
      "|       496|[[3, 7.2842765], ...|\n",
      "|       148|[[3, 5.828127], [...|\n",
      "|       540|[[3, 5.827422], [...|\n",
      "|       392|[[3, 4.6625013], ...|\n",
      "|       243|[[3, 3.4968762], ...|\n",
      "|       623|[[3, 1.1656253], ...|\n",
      "|       737|[[4, 4.999531], [...|\n",
      "|       858|[[3, 5.828127], [...|\n",
      "|        31|[[6, 4.999396], [...|\n",
      "|       516|[[59, 4.9978075],...|\n",
      "|       580|[[3, 1.4568555], ...|\n",
      "|       251|[[11, 6.035818], ...|\n",
      "|        85|[[3, 7.2842765], ...|\n",
      "|       137|[[3, 3.999169], [...|\n",
      "|       808|[[3, 5.828127], [...|\n",
      "|       883|[[3, 7.2842765], ...|\n",
      "|        65|[[3, 5.828127], [...|\n",
      "|       458|[[3, 7.2842765], ...|\n",
      "+----------+--------------------+\n",
      "only showing top 20 rows\n",
      "\n",
      "+----------+--------------------+\n",
      "|Item-Index|     recommendations|\n",
      "+----------+--------------------+\n",
      "|        31|[[255, 6.1795554]...|\n",
      "|        85|[[841, 3.9972646]...|\n",
      "|        65|[[58, 3.9972644],...|\n",
      "|        53|[[283, 4.997807],...|\n",
      "|        78|[[978, 3.9972644]...|\n",
      "|        28|[[690, 4.998024],...|\n",
      "|        76|[[386, 4.9978075]...|\n",
      "|        26|[[983, 4.9985948]...|\n",
      "|        27|[[532, 5.405139],...|\n",
      "|        44|[[559, 1.9946203]...|\n",
      "|        12|[[419, 4.998662],...|\n",
      "|        91|[[759, 4.997807],...|\n",
      "|        22|[[384, 4.997807],...|\n",
      "|        47|[[1, 5.047038], [...|\n",
      "|         1|[[210, 4.9947824]...|\n",
      "|        13|[[841, 7.0030932]...|\n",
      "|         6|[[559, 6.6369724]...|\n",
      "|        16|[[407, 4.9984245]...|\n",
      "|        86|[[913, 4.9978075]...|\n",
      "|         3|[[10, 7.2842765],...|\n",
      "+----------+--------------------+\n",
      "only showing top 20 rows\n",
      "\n"
     ]
    }
   ],
   "source": [
    "user_recs.show()\n",
    "items_recs.show()"
   ]
  },
  {
   "cell_type": "code",
   "execution_count": 71,
   "id": "mounted-average",
   "metadata": {},
   "outputs": [],
   "source": [
    "user_recs.write.mode(\"overwrite\").saveAsTable(\"UserRecommendationTable\")\n",
    "items_recs.write.mode(\"overwrite\").saveAsTable(\"ItemsRecommendationTable\")"
   ]
  },
  {
   "cell_type": "code",
   "execution_count": 68,
   "id": "conservative-roulette",
   "metadata": {},
   "outputs": [],
   "source": [
    "user = 540\n",
    "book = 26"
   ]
  },
  {
   "cell_type": "code",
   "execution_count": 72,
   "id": "decreased-operations",
   "metadata": {},
   "outputs": [],
   "source": [
    "df_items_indexed.createOrReplaceTempView(\"users\")\n",
    "df_items_indexed.createOrReplaceTempView(\"items\")"
   ]
  },
  {
   "cell_type": "code",
   "execution_count": 73,
   "id": "actual-router",
   "metadata": {},
   "outputs": [
    {
     "name": "stdout",
     "output_type": "stream",
     "text": [
      "[Database(name='default', description='Default Hive database', locationUri='file:/home/big/Desktop/Aulas/Projeto/spark-warehouse')]\n"
     ]
    }
   ],
   "source": [
    "print(spark.catalog.listDatabases())"
   ]
  },
  {
   "cell_type": "code",
   "execution_count": 74,
   "id": "deluxe-italian",
   "metadata": {},
   "outputs": [
    {
     "data": {
      "text/plain": [
       "[Table(name='itemsrecommendationtable', database='default', description=None, tableType='MANAGED', isTemporary=False),\n",
       " Table(name='itemstable', database='default', description=None, tableType='MANAGED', isTemporary=False),\n",
       " Table(name='userrecommendationtable', database='default', description=None, tableType='MANAGED', isTemporary=False),\n",
       " Table(name='items', database=None, description=None, tableType='TEMPORARY', isTemporary=True),\n",
       " Table(name='users', database=None, description=None, tableType='TEMPORARY', isTemporary=True)]"
      ]
     },
     "execution_count": 74,
     "metadata": {},
     "output_type": "execute_result"
    }
   ],
   "source": [
    "spark.catalog.listTables(dbName=\"default\")"
   ]
  },
  {
   "cell_type": "code",
   "execution_count": 75,
   "id": "addressed-medicare",
   "metadata": {},
   "outputs": [
    {
     "data": {
      "text/plain": [
       "DataFrame[]"
      ]
     },
     "execution_count": 75,
     "metadata": {},
     "output_type": "execute_result"
    }
   ],
   "source": [
    "spark.sql(\"USE default\")"
   ]
  },
  {
   "cell_type": "code",
   "execution_count": 76,
   "id": "spectacular-butterfly",
   "metadata": {},
   "outputs": [
    {
     "data": {
      "text/plain": [
       "<bound method Catalog.listColumns of <pyspark.sql.catalog.Catalog object at 0x7f39e650bc10>>"
      ]
     },
     "execution_count": 76,
     "metadata": {},
     "output_type": "execute_result"
    }
   ],
   "source": [
    "spark.catalog.listColumns"
   ]
  },
  {
   "cell_type": "code",
   "execution_count": null,
   "id": "seven-satellite",
   "metadata": {},
   "outputs": [],
   "source": []
  }
 ],
 "metadata": {
  "kernelspec": {
   "display_name": "PySpark",
   "language": "python",
   "name": "pyspark"
  },
  "language_info": {
   "codemirror_mode": {
    "name": "ipython",
    "version": 3
   },
   "file_extension": ".py",
   "mimetype": "text/x-python",
   "name": "python",
   "nbconvert_exporter": "python",
   "pygments_lexer": "ipython3",
   "version": "3.8.5"
  }
 },
 "nbformat": 4,
 "nbformat_minor": 5
}
